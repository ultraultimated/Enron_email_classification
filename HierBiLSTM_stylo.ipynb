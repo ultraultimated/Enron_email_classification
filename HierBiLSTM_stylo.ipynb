{
 "cells": [
  {
   "cell_type": "markdown",
   "metadata": {},
   "source": [
    "# Main File to train Model on Hierarchical Bi-LSTM "
   ]
  },
  {
   "cell_type": "markdown",
   "metadata": {},
   "source": [
    "### Import necessary dependencies and random seed"
   ]
  },
  {
   "cell_type": "code",
   "execution_count": null,
   "metadata": {},
   "outputs": [],
   "source": [
    "import numpy as np\n",
    "from collections import defaultdict\n",
    "import re\n",
    "import random\n",
    "import sys\n",
    "import os\n",
    "import pandas as pd\n",
    "\n",
    "from keras.preprocessing.text import Tokenizer, text_to_word_sequence\n",
    "from keras.preprocessing.sequence import pad_sequences\n",
    "from keras.utils.np_utils import to_categorical\n",
    "\n",
    "from keras.layers import Embedding\n",
    "from keras.layers import Dense, Input, Flatten\n",
    "from keras.layers import Conv1D, MaxPooling1D, Embedding, Concatenate, Dropout, LSTM, GRU, Bidirectional, TimeDistributed\n",
    "from keras.layers.normalization import BatchNormalization\n",
    "from keras.layers import merge\n",
    "from keras.layers import concatenate\n",
    "from keras.models import model_from_json\n",
    "\n",
    "\n",
    "from keras.models import Model\n",
    "from keras import backend as K\n",
    "from keras.engine.topology import Layer, InputSpec\n",
    "from keras.callbacks import Callback, ModelCheckpoint, EarlyStopping\n",
    "\n",
    "import matplotlib.pyplot as plt\n",
    "from numpy.random import seed\n",
    "seed(70)\n"
   ]
  },
  {
   "cell_type": "markdown",
   "metadata": {},
   "source": [
    "## Get view of data"
   ]
  },
  {
   "cell_type": "code",
   "execution_count": 2,
   "metadata": {},
   "outputs": [
    {
     "data": {
      "text/html": [
       "<div>\n",
       "<style scoped>\n",
       "    .dataframe tbody tr th:only-of-type {\n",
       "        vertical-align: middle;\n",
       "    }\n",
       "\n",
       "    .dataframe tbody tr th {\n",
       "        vertical-align: top;\n",
       "    }\n",
       "\n",
       "    .dataframe thead th {\n",
       "        text-align: right;\n",
       "    }\n",
       "</style>\n",
       "<table border=\"1\" class=\"dataframe\">\n",
       "  <thead>\n",
       "    <tr style=\"text-align: right;\">\n",
       "      <th></th>\n",
       "      <th>Unnamed: 0</th>\n",
       "      <th>Unnamed: 0.1</th>\n",
       "      <th>Unnamed: 0.1.1</th>\n",
       "      <th>user</th>\n",
       "      <th>Message-ID</th>\n",
       "      <th>new_content</th>\n",
       "      <th>doc</th>\n",
       "      <th>nr_sentences</th>\n",
       "      <th>avg_number_of_words_per_sent</th>\n",
       "      <th>std_deviation_len</th>\n",
       "      <th>...</th>\n",
       "      <th>most_frequency</th>\n",
       "      <th>nr_pos</th>\n",
       "      <th>nr_function</th>\n",
       "      <th>avg_length_np</th>\n",
       "      <th>nr_positive_word</th>\n",
       "      <th>nr_neg_word</th>\n",
       "      <th>nr_neutral_word</th>\n",
       "      <th>nr_named_entity</th>\n",
       "      <th>score_semantic</th>\n",
       "      <th>nr_greeting</th>\n",
       "    </tr>\n",
       "  </thead>\n",
       "  <tbody>\n",
       "    <tr>\n",
       "      <th>0</th>\n",
       "      <td>0</td>\n",
       "      <td>0</td>\n",
       "      <td>0</td>\n",
       "      <td>germany-c</td>\n",
       "      <td>&lt;25069561.1075853799771.JavaMail.evans@thyme&gt;</td>\n",
       "      <td>Call me $</td>\n",
       "      <td>Call me $</td>\n",
       "      <td>1.0</td>\n",
       "      <td>2.000000</td>\n",
       "      <td>0.000000</td>\n",
       "      <td>...</td>\n",
       "      <td>1.0</td>\n",
       "      <td>3.0</td>\n",
       "      <td>1.0</td>\n",
       "      <td>2.000000</td>\n",
       "      <td>0.0</td>\n",
       "      <td>0.0</td>\n",
       "      <td>3.0</td>\n",
       "      <td>0.0</td>\n",
       "      <td>0.0000</td>\n",
       "      <td>0.0</td>\n",
       "    </tr>\n",
       "    <tr>\n",
       "      <th>1</th>\n",
       "      <td>1</td>\n",
       "      <td>1</td>\n",
       "      <td>1</td>\n",
       "      <td>germany-c</td>\n",
       "      <td>&lt;30565676.1075845146575.JavaMail.evans@thyme&gt;</td>\n",
       "      <td>Chris,\\n\\nPlease extend this deal to 12/31/00....</td>\n",
       "      <td>Chris,\\n\\nPlease extend this deal to 12/31/00....</td>\n",
       "      <td>3.0</td>\n",
       "      <td>3.333333</td>\n",
       "      <td>3.785939</td>\n",
       "      <td>...</td>\n",
       "      <td>1.0</td>\n",
       "      <td>11.0</td>\n",
       "      <td>6.0</td>\n",
       "      <td>6.250000</td>\n",
       "      <td>3.0</td>\n",
       "      <td>0.0</td>\n",
       "      <td>11.0</td>\n",
       "      <td>5.0</td>\n",
       "      <td>0.7096</td>\n",
       "      <td>0.0</td>\n",
       "    </tr>\n",
       "    <tr>\n",
       "      <th>2</th>\n",
       "      <td>2</td>\n",
       "      <td>2</td>\n",
       "      <td>2</td>\n",
       "      <td>germany-c</td>\n",
       "      <td>&lt;22843742.1075853701854.JavaMail.evans@thyme&gt;</td>\n",
       "      <td>The Unify tables are updated for the fuel chan...</td>\n",
       "      <td>The Unify tables are updated for the fuel chan...</td>\n",
       "      <td>2.0</td>\n",
       "      <td>13.000000</td>\n",
       "      <td>2.121320</td>\n",
       "      <td>...</td>\n",
       "      <td>2.0</td>\n",
       "      <td>11.0</td>\n",
       "      <td>12.0</td>\n",
       "      <td>11.250000</td>\n",
       "      <td>1.0</td>\n",
       "      <td>0.0</td>\n",
       "      <td>26.0</td>\n",
       "      <td>2.0</td>\n",
       "      <td>0.4767</td>\n",
       "      <td>0.0</td>\n",
       "    </tr>\n",
       "    <tr>\n",
       "      <th>3</th>\n",
       "      <td>3</td>\n",
       "      <td>3</td>\n",
       "      <td>3</td>\n",
       "      <td>germany-c</td>\n",
       "      <td>&lt;10021489.1075853845389.JavaMail.evans@thyme&gt;</td>\n",
       "      <td>I'm a bad person.  I forgot to tell you I sold...</td>\n",
       "      <td>I'm a bad person.  I forgot to tell you I sold...</td>\n",
       "      <td>5.0</td>\n",
       "      <td>7.800000</td>\n",
       "      <td>7.949843</td>\n",
       "      <td>...</td>\n",
       "      <td>5.0</td>\n",
       "      <td>14.0</td>\n",
       "      <td>20.0</td>\n",
       "      <td>5.312500</td>\n",
       "      <td>0.0</td>\n",
       "      <td>1.0</td>\n",
       "      <td>46.0</td>\n",
       "      <td>15.0</td>\n",
       "      <td>-0.5423</td>\n",
       "      <td>0.0</td>\n",
       "    </tr>\n",
       "    <tr>\n",
       "      <th>4</th>\n",
       "      <td>4</td>\n",
       "      <td>4</td>\n",
       "      <td>4</td>\n",
       "      <td>germany-c</td>\n",
       "      <td>&lt;4513779.1075853857752.JavaMail.evans@thyme&gt;</td>\n",
       "      <td>After talking to Victor, he said this was the ...</td>\n",
       "      <td>After talking to Victor, he said this was the ...</td>\n",
       "      <td>6.0</td>\n",
       "      <td>8.666667</td>\n",
       "      <td>7.823043</td>\n",
       "      <td>...</td>\n",
       "      <td>5.0</td>\n",
       "      <td>14.0</td>\n",
       "      <td>27.0</td>\n",
       "      <td>8.578947</td>\n",
       "      <td>2.0</td>\n",
       "      <td>0.0</td>\n",
       "      <td>58.0</td>\n",
       "      <td>12.0</td>\n",
       "      <td>0.6808</td>\n",
       "      <td>0.0</td>\n",
       "    </tr>\n",
       "  </tbody>\n",
       "</table>\n",
       "<p>5 rows × 44 columns</p>\n",
       "</div>"
      ],
      "text/plain": [
       "   Unnamed: 0  Unnamed: 0.1  Unnamed: 0.1.1       user  \\\n",
       "0           0             0               0  germany-c   \n",
       "1           1             1               1  germany-c   \n",
       "2           2             2               2  germany-c   \n",
       "3           3             3               3  germany-c   \n",
       "4           4             4               4  germany-c   \n",
       "\n",
       "                                      Message-ID  \\\n",
       "0  <25069561.1075853799771.JavaMail.evans@thyme>   \n",
       "1  <30565676.1075845146575.JavaMail.evans@thyme>   \n",
       "2  <22843742.1075853701854.JavaMail.evans@thyme>   \n",
       "3  <10021489.1075853845389.JavaMail.evans@thyme>   \n",
       "4   <4513779.1075853857752.JavaMail.evans@thyme>   \n",
       "\n",
       "                                         new_content  \\\n",
       "0                                          Call me $   \n",
       "1  Chris,\\n\\nPlease extend this deal to 12/31/00....   \n",
       "2  The Unify tables are updated for the fuel chan...   \n",
       "3  I'm a bad person.  I forgot to tell you I sold...   \n",
       "4  After talking to Victor, he said this was the ...   \n",
       "\n",
       "                                                 doc  nr_sentences  \\\n",
       "0                                          Call me $           1.0   \n",
       "1  Chris,\\n\\nPlease extend this deal to 12/31/00....           3.0   \n",
       "2  The Unify tables are updated for the fuel chan...           2.0   \n",
       "3  I'm a bad person.  I forgot to tell you I sold...           5.0   \n",
       "4  After talking to Victor, he said this was the ...           6.0   \n",
       "\n",
       "   avg_number_of_words_per_sent  std_deviation_len  ...  most_frequency  \\\n",
       "0                      2.000000           0.000000  ...             1.0   \n",
       "1                      3.333333           3.785939  ...             1.0   \n",
       "2                     13.000000           2.121320  ...             2.0   \n",
       "3                      7.800000           7.949843  ...             5.0   \n",
       "4                      8.666667           7.823043  ...             5.0   \n",
       "\n",
       "   nr_pos  nr_function  avg_length_np  nr_positive_word  nr_neg_word  \\\n",
       "0     3.0          1.0       2.000000               0.0          0.0   \n",
       "1    11.0          6.0       6.250000               3.0          0.0   \n",
       "2    11.0         12.0      11.250000               1.0          0.0   \n",
       "3    14.0         20.0       5.312500               0.0          1.0   \n",
       "4    14.0         27.0       8.578947               2.0          0.0   \n",
       "\n",
       "   nr_neutral_word  nr_named_entity  score_semantic  nr_greeting  \n",
       "0              3.0              0.0          0.0000          0.0  \n",
       "1             11.0              5.0          0.7096          0.0  \n",
       "2             26.0              2.0          0.4767          0.0  \n",
       "3             46.0             15.0         -0.5423          0.0  \n",
       "4             58.0             12.0          0.6808          0.0  \n",
       "\n",
       "[5 rows x 44 columns]"
      ]
     },
     "execution_count": 2,
     "metadata": {},
     "output_type": "execute_result"
    }
   ],
   "source": [
    "df = pd.read_csv(\"semantic_feature_.csv\")\n",
    "df.head(5)"
   ]
  },
  {
   "cell_type": "markdown",
   "metadata": {},
   "source": [
    "### Drop Unnecessary columns from dataframe"
   ]
  },
  {
   "cell_type": "code",
   "execution_count": 3,
   "metadata": {},
   "outputs": [],
   "source": [
    "df.drop(df.columns[[1, 2]], axis = 1, inplace = True) "
   ]
  },
  {
   "cell_type": "code",
   "execution_count": 4,
   "metadata": {},
   "outputs": [
    {
     "data": {
      "text/html": [
       "<div>\n",
       "<style scoped>\n",
       "    .dataframe tbody tr th:only-of-type {\n",
       "        vertical-align: middle;\n",
       "    }\n",
       "\n",
       "    .dataframe tbody tr th {\n",
       "        vertical-align: top;\n",
       "    }\n",
       "\n",
       "    .dataframe thead th {\n",
       "        text-align: right;\n",
       "    }\n",
       "</style>\n",
       "<table border=\"1\" class=\"dataframe\">\n",
       "  <thead>\n",
       "    <tr style=\"text-align: right;\">\n",
       "      <th></th>\n",
       "      <th>Unnamed: 0</th>\n",
       "      <th>user</th>\n",
       "      <th>Message-ID</th>\n",
       "      <th>new_content</th>\n",
       "      <th>doc</th>\n",
       "      <th>nr_sentences</th>\n",
       "      <th>avg_number_of_words_per_sent</th>\n",
       "      <th>std_deviation_len</th>\n",
       "      <th>nr_chars</th>\n",
       "      <th>nr_alphabet</th>\n",
       "      <th>...</th>\n",
       "      <th>most_frequency</th>\n",
       "      <th>nr_pos</th>\n",
       "      <th>nr_function</th>\n",
       "      <th>avg_length_np</th>\n",
       "      <th>nr_positive_word</th>\n",
       "      <th>nr_neg_word</th>\n",
       "      <th>nr_neutral_word</th>\n",
       "      <th>nr_named_entity</th>\n",
       "      <th>score_semantic</th>\n",
       "      <th>nr_greeting</th>\n",
       "    </tr>\n",
       "  </thead>\n",
       "  <tbody>\n",
       "    <tr>\n",
       "      <th>0</th>\n",
       "      <td>0</td>\n",
       "      <td>germany-c</td>\n",
       "      <td>&lt;25069561.1075853799771.JavaMail.evans@thyme&gt;</td>\n",
       "      <td>Call me $</td>\n",
       "      <td>Call me $</td>\n",
       "      <td>1.0</td>\n",
       "      <td>2.000000</td>\n",
       "      <td>0.000000</td>\n",
       "      <td>7</td>\n",
       "      <td>6</td>\n",
       "      <td>...</td>\n",
       "      <td>1.0</td>\n",
       "      <td>3.0</td>\n",
       "      <td>1.0</td>\n",
       "      <td>2.000000</td>\n",
       "      <td>0.0</td>\n",
       "      <td>0.0</td>\n",
       "      <td>3.0</td>\n",
       "      <td>0.0</td>\n",
       "      <td>0.0000</td>\n",
       "      <td>0.0</td>\n",
       "    </tr>\n",
       "    <tr>\n",
       "      <th>1</th>\n",
       "      <td>1</td>\n",
       "      <td>germany-c</td>\n",
       "      <td>&lt;30565676.1075845146575.JavaMail.evans@thyme&gt;</td>\n",
       "      <td>Chris,\\n\\nPlease extend this deal to 12/31/00....</td>\n",
       "      <td>Chris,\\n\\nPlease extend this deal to 12/31/00....</td>\n",
       "      <td>3.0</td>\n",
       "      <td>3.333333</td>\n",
       "      <td>3.785939</td>\n",
       "      <td>84</td>\n",
       "      <td>55</td>\n",
       "      <td>...</td>\n",
       "      <td>1.0</td>\n",
       "      <td>11.0</td>\n",
       "      <td>6.0</td>\n",
       "      <td>6.250000</td>\n",
       "      <td>3.0</td>\n",
       "      <td>0.0</td>\n",
       "      <td>11.0</td>\n",
       "      <td>5.0</td>\n",
       "      <td>0.7096</td>\n",
       "      <td>0.0</td>\n",
       "    </tr>\n",
       "    <tr>\n",
       "      <th>2</th>\n",
       "      <td>2</td>\n",
       "      <td>germany-c</td>\n",
       "      <td>&lt;22843742.1075853701854.JavaMail.evans@thyme&gt;</td>\n",
       "      <td>The Unify tables are updated for the fuel chan...</td>\n",
       "      <td>The Unify tables are updated for the fuel chan...</td>\n",
       "      <td>2.0</td>\n",
       "      <td>13.000000</td>\n",
       "      <td>2.121320</td>\n",
       "      <td>142</td>\n",
       "      <td>132</td>\n",
       "      <td>...</td>\n",
       "      <td>2.0</td>\n",
       "      <td>11.0</td>\n",
       "      <td>12.0</td>\n",
       "      <td>11.250000</td>\n",
       "      <td>1.0</td>\n",
       "      <td>0.0</td>\n",
       "      <td>26.0</td>\n",
       "      <td>2.0</td>\n",
       "      <td>0.4767</td>\n",
       "      <td>0.0</td>\n",
       "    </tr>\n",
       "    <tr>\n",
       "      <th>3</th>\n",
       "      <td>3</td>\n",
       "      <td>germany-c</td>\n",
       "      <td>&lt;10021489.1075853845389.JavaMail.evans@thyme&gt;</td>\n",
       "      <td>I'm a bad person.  I forgot to tell you I sold...</td>\n",
       "      <td>I'm a bad person.  I forgot to tell you I sold...</td>\n",
       "      <td>5.0</td>\n",
       "      <td>7.800000</td>\n",
       "      <td>7.949843</td>\n",
       "      <td>201</td>\n",
       "      <td>165</td>\n",
       "      <td>...</td>\n",
       "      <td>5.0</td>\n",
       "      <td>14.0</td>\n",
       "      <td>20.0</td>\n",
       "      <td>5.312500</td>\n",
       "      <td>0.0</td>\n",
       "      <td>1.0</td>\n",
       "      <td>46.0</td>\n",
       "      <td>15.0</td>\n",
       "      <td>-0.5423</td>\n",
       "      <td>0.0</td>\n",
       "    </tr>\n",
       "    <tr>\n",
       "      <th>4</th>\n",
       "      <td>4</td>\n",
       "      <td>germany-c</td>\n",
       "      <td>&lt;4513779.1075853857752.JavaMail.evans@thyme&gt;</td>\n",
       "      <td>After talking to Victor, he said this was the ...</td>\n",
       "      <td>After talking to Victor, he said this was the ...</td>\n",
       "      <td>6.0</td>\n",
       "      <td>8.666667</td>\n",
       "      <td>7.823043</td>\n",
       "      <td>287</td>\n",
       "      <td>277</td>\n",
       "      <td>...</td>\n",
       "      <td>5.0</td>\n",
       "      <td>14.0</td>\n",
       "      <td>27.0</td>\n",
       "      <td>8.578947</td>\n",
       "      <td>2.0</td>\n",
       "      <td>0.0</td>\n",
       "      <td>58.0</td>\n",
       "      <td>12.0</td>\n",
       "      <td>0.6808</td>\n",
       "      <td>0.0</td>\n",
       "    </tr>\n",
       "  </tbody>\n",
       "</table>\n",
       "<p>5 rows × 42 columns</p>\n",
       "</div>"
      ],
      "text/plain": [
       "   Unnamed: 0       user                                     Message-ID  \\\n",
       "0           0  germany-c  <25069561.1075853799771.JavaMail.evans@thyme>   \n",
       "1           1  germany-c  <30565676.1075845146575.JavaMail.evans@thyme>   \n",
       "2           2  germany-c  <22843742.1075853701854.JavaMail.evans@thyme>   \n",
       "3           3  germany-c  <10021489.1075853845389.JavaMail.evans@thyme>   \n",
       "4           4  germany-c   <4513779.1075853857752.JavaMail.evans@thyme>   \n",
       "\n",
       "                                         new_content  \\\n",
       "0                                          Call me $   \n",
       "1  Chris,\\n\\nPlease extend this deal to 12/31/00....   \n",
       "2  The Unify tables are updated for the fuel chan...   \n",
       "3  I'm a bad person.  I forgot to tell you I sold...   \n",
       "4  After talking to Victor, he said this was the ...   \n",
       "\n",
       "                                                 doc  nr_sentences  \\\n",
       "0                                          Call me $           1.0   \n",
       "1  Chris,\\n\\nPlease extend this deal to 12/31/00....           3.0   \n",
       "2  The Unify tables are updated for the fuel chan...           2.0   \n",
       "3  I'm a bad person.  I forgot to tell you I sold...           5.0   \n",
       "4  After talking to Victor, he said this was the ...           6.0   \n",
       "\n",
       "   avg_number_of_words_per_sent  std_deviation_len  nr_chars  nr_alphabet  \\\n",
       "0                      2.000000           0.000000         7            6   \n",
       "1                      3.333333           3.785939        84           55   \n",
       "2                     13.000000           2.121320       142          132   \n",
       "3                      7.800000           7.949843       201          165   \n",
       "4                      8.666667           7.823043       287          277   \n",
       "\n",
       "   ...  most_frequency  nr_pos  nr_function  avg_length_np  nr_positive_word  \\\n",
       "0  ...             1.0     3.0          1.0       2.000000               0.0   \n",
       "1  ...             1.0    11.0          6.0       6.250000               3.0   \n",
       "2  ...             2.0    11.0         12.0      11.250000               1.0   \n",
       "3  ...             5.0    14.0         20.0       5.312500               0.0   \n",
       "4  ...             5.0    14.0         27.0       8.578947               2.0   \n",
       "\n",
       "   nr_neg_word  nr_neutral_word  nr_named_entity  score_semantic  nr_greeting  \n",
       "0          0.0              3.0              0.0          0.0000          0.0  \n",
       "1          0.0             11.0              5.0          0.7096          0.0  \n",
       "2          0.0             26.0              2.0          0.4767          0.0  \n",
       "3          1.0             46.0             15.0         -0.5423          0.0  \n",
       "4          0.0             58.0             12.0          0.6808          0.0  \n",
       "\n",
       "[5 rows x 42 columns]"
      ]
     },
     "execution_count": 4,
     "metadata": {},
     "output_type": "execute_result"
    }
   ],
   "source": [
    "df.head(5)"
   ]
  },
  {
   "cell_type": "code",
   "execution_count": 5,
   "metadata": {},
   "outputs": [],
   "source": [
    "df.drop(df.columns[[0,2,4]], axis = 1, inplace = True) "
   ]
  },
  {
   "cell_type": "code",
   "execution_count": 6,
   "metadata": {},
   "outputs": [
    {
     "data": {
      "text/html": [
       "<div>\n",
       "<style scoped>\n",
       "    .dataframe tbody tr th:only-of-type {\n",
       "        vertical-align: middle;\n",
       "    }\n",
       "\n",
       "    .dataframe tbody tr th {\n",
       "        vertical-align: top;\n",
       "    }\n",
       "\n",
       "    .dataframe thead th {\n",
       "        text-align: right;\n",
       "    }\n",
       "</style>\n",
       "<table border=\"1\" class=\"dataframe\">\n",
       "  <thead>\n",
       "    <tr style=\"text-align: right;\">\n",
       "      <th></th>\n",
       "      <th>user</th>\n",
       "      <th>new_content</th>\n",
       "      <th>nr_sentences</th>\n",
       "      <th>avg_number_of_words_per_sent</th>\n",
       "      <th>std_deviation_len</th>\n",
       "      <th>nr_chars</th>\n",
       "      <th>nr_alphabet</th>\n",
       "      <th>nr_upper</th>\n",
       "      <th>nr_lower</th>\n",
       "      <th>nr_numerics</th>\n",
       "      <th>...</th>\n",
       "      <th>most_frequency</th>\n",
       "      <th>nr_pos</th>\n",
       "      <th>nr_function</th>\n",
       "      <th>avg_length_np</th>\n",
       "      <th>nr_positive_word</th>\n",
       "      <th>nr_neg_word</th>\n",
       "      <th>nr_neutral_word</th>\n",
       "      <th>nr_named_entity</th>\n",
       "      <th>score_semantic</th>\n",
       "      <th>nr_greeting</th>\n",
       "    </tr>\n",
       "  </thead>\n",
       "  <tbody>\n",
       "    <tr>\n",
       "      <th>0</th>\n",
       "      <td>germany-c</td>\n",
       "      <td>Call me $</td>\n",
       "      <td>1.0</td>\n",
       "      <td>2.000000</td>\n",
       "      <td>0.000000</td>\n",
       "      <td>7</td>\n",
       "      <td>6</td>\n",
       "      <td>1</td>\n",
       "      <td>5</td>\n",
       "      <td>0</td>\n",
       "      <td>...</td>\n",
       "      <td>1.0</td>\n",
       "      <td>3.0</td>\n",
       "      <td>1.0</td>\n",
       "      <td>2.000000</td>\n",
       "      <td>0.0</td>\n",
       "      <td>0.0</td>\n",
       "      <td>3.0</td>\n",
       "      <td>0.0</td>\n",
       "      <td>0.0000</td>\n",
       "      <td>0.0</td>\n",
       "    </tr>\n",
       "    <tr>\n",
       "      <th>1</th>\n",
       "      <td>germany-c</td>\n",
       "      <td>Chris,\\n\\nPlease extend this deal to 12/31/00....</td>\n",
       "      <td>3.0</td>\n",
       "      <td>3.333333</td>\n",
       "      <td>3.785939</td>\n",
       "      <td>84</td>\n",
       "      <td>55</td>\n",
       "      <td>5</td>\n",
       "      <td>50</td>\n",
       "      <td>18</td>\n",
       "      <td>...</td>\n",
       "      <td>1.0</td>\n",
       "      <td>11.0</td>\n",
       "      <td>6.0</td>\n",
       "      <td>6.250000</td>\n",
       "      <td>3.0</td>\n",
       "      <td>0.0</td>\n",
       "      <td>11.0</td>\n",
       "      <td>5.0</td>\n",
       "      <td>0.7096</td>\n",
       "      <td>0.0</td>\n",
       "    </tr>\n",
       "    <tr>\n",
       "      <th>2</th>\n",
       "      <td>germany-c</td>\n",
       "      <td>The Unify tables are updated for the fuel chan...</td>\n",
       "      <td>2.0</td>\n",
       "      <td>13.000000</td>\n",
       "      <td>2.121320</td>\n",
       "      <td>142</td>\n",
       "      <td>132</td>\n",
       "      <td>11</td>\n",
       "      <td>121</td>\n",
       "      <td>6</td>\n",
       "      <td>...</td>\n",
       "      <td>2.0</td>\n",
       "      <td>11.0</td>\n",
       "      <td>12.0</td>\n",
       "      <td>11.250000</td>\n",
       "      <td>1.0</td>\n",
       "      <td>0.0</td>\n",
       "      <td>26.0</td>\n",
       "      <td>2.0</td>\n",
       "      <td>0.4767</td>\n",
       "      <td>0.0</td>\n",
       "    </tr>\n",
       "    <tr>\n",
       "      <th>3</th>\n",
       "      <td>germany-c</td>\n",
       "      <td>I'm a bad person.  I forgot to tell you I sold...</td>\n",
       "      <td>5.0</td>\n",
       "      <td>7.800000</td>\n",
       "      <td>7.949843</td>\n",
       "      <td>201</td>\n",
       "      <td>165</td>\n",
       "      <td>19</td>\n",
       "      <td>146</td>\n",
       "      <td>27</td>\n",
       "      <td>...</td>\n",
       "      <td>5.0</td>\n",
       "      <td>14.0</td>\n",
       "      <td>20.0</td>\n",
       "      <td>5.312500</td>\n",
       "      <td>0.0</td>\n",
       "      <td>1.0</td>\n",
       "      <td>46.0</td>\n",
       "      <td>15.0</td>\n",
       "      <td>-0.5423</td>\n",
       "      <td>0.0</td>\n",
       "    </tr>\n",
       "    <tr>\n",
       "      <th>4</th>\n",
       "      <td>germany-c</td>\n",
       "      <td>After talking to Victor, he said this was the ...</td>\n",
       "      <td>6.0</td>\n",
       "      <td>8.666667</td>\n",
       "      <td>7.823043</td>\n",
       "      <td>287</td>\n",
       "      <td>277</td>\n",
       "      <td>14</td>\n",
       "      <td>263</td>\n",
       "      <td>0</td>\n",
       "      <td>...</td>\n",
       "      <td>5.0</td>\n",
       "      <td>14.0</td>\n",
       "      <td>27.0</td>\n",
       "      <td>8.578947</td>\n",
       "      <td>2.0</td>\n",
       "      <td>0.0</td>\n",
       "      <td>58.0</td>\n",
       "      <td>12.0</td>\n",
       "      <td>0.6808</td>\n",
       "      <td>0.0</td>\n",
       "    </tr>\n",
       "  </tbody>\n",
       "</table>\n",
       "<p>5 rows × 39 columns</p>\n",
       "</div>"
      ],
      "text/plain": [
       "        user                                        new_content  nr_sentences  \\\n",
       "0  germany-c                                          Call me $           1.0   \n",
       "1  germany-c  Chris,\\n\\nPlease extend this deal to 12/31/00....           3.0   \n",
       "2  germany-c  The Unify tables are updated for the fuel chan...           2.0   \n",
       "3  germany-c  I'm a bad person.  I forgot to tell you I sold...           5.0   \n",
       "4  germany-c  After talking to Victor, he said this was the ...           6.0   \n",
       "\n",
       "   avg_number_of_words_per_sent  std_deviation_len  nr_chars  nr_alphabet  \\\n",
       "0                      2.000000           0.000000         7            6   \n",
       "1                      3.333333           3.785939        84           55   \n",
       "2                     13.000000           2.121320       142          132   \n",
       "3                      7.800000           7.949843       201          165   \n",
       "4                      8.666667           7.823043       287          277   \n",
       "\n",
       "   nr_upper  nr_lower  nr_numerics  ...  most_frequency  nr_pos  nr_function  \\\n",
       "0         1         5            0  ...             1.0     3.0          1.0   \n",
       "1         5        50           18  ...             1.0    11.0          6.0   \n",
       "2        11       121            6  ...             2.0    11.0         12.0   \n",
       "3        19       146           27  ...             5.0    14.0         20.0   \n",
       "4        14       263            0  ...             5.0    14.0         27.0   \n",
       "\n",
       "   avg_length_np  nr_positive_word  nr_neg_word  nr_neutral_word  \\\n",
       "0       2.000000               0.0          0.0              3.0   \n",
       "1       6.250000               3.0          0.0             11.0   \n",
       "2      11.250000               1.0          0.0             26.0   \n",
       "3       5.312500               0.0          1.0             46.0   \n",
       "4       8.578947               2.0          0.0             58.0   \n",
       "\n",
       "   nr_named_entity  score_semantic  nr_greeting  \n",
       "0              0.0          0.0000          0.0  \n",
       "1              5.0          0.7096          0.0  \n",
       "2              2.0          0.4767          0.0  \n",
       "3             15.0         -0.5423          0.0  \n",
       "4             12.0          0.6808          0.0  \n",
       "\n",
       "[5 rows x 39 columns]"
      ]
     },
     "execution_count": 6,
     "metadata": {},
     "output_type": "execute_result"
    }
   ],
   "source": [
    "df.head(5)"
   ]
  },
  {
   "cell_type": "markdown",
   "metadata": {},
   "source": [
    "### initial parameters for Tokenization and word indexing"
   ]
  },
  {
   "cell_type": "code",
   "execution_count": 7,
   "metadata": {},
   "outputs": [],
   "source": [
    "# hyper parameters\n",
    "max_sen_len = 150\n",
    "max_sents = 50\n",
    "emb_dim = 100\n",
    "val_split = 0.2\n",
    "test_split = 0.2"
   ]
  },
  {
   "cell_type": "code",
   "execution_count": 8,
   "metadata": {},
   "outputs": [],
   "source": [
    "lines = []\n",
    "labels = []\n",
    "texts = []\n",
    "f_names = []\n",
    "style_vectors = []\n",
    "scd = []\n",
    "style_dict = {}\n",
    "classes = []\n",
    "class_labels = {}\n",
    "class_ind = 0\n",
    "style_train = []\n",
    "style_val = []"
   ]
  },
  {
   "cell_type": "markdown",
   "metadata": {},
   "source": [
    "### Fill various matrices with style vectors"
   ]
  },
  {
   "cell_type": "code",
   "execution_count": 9,
   "metadata": {},
   "outputs": [
    {
     "name": "stdout",
     "output_type": "stream",
     "text": [
      "10163\n",
      "beck-s\n",
      "10434\n",
      "kaminski-v\n",
      "20719\n",
      "kean-s\n",
      "13851\n",
      "symes-k\n",
      "9455\n",
      "dasovich-j\n",
      "18087\n",
      "mann-k\n",
      "20622\n",
      "farmer-d\n",
      "11768\n",
      "jones-t\n",
      "12222\n",
      "shackleton-s\n"
     ]
    }
   ],
   "source": [
    "count = 0\n",
    "curr_user = \"germany-c\"\n",
    "for _, doc in df.iterrows():\n",
    "    if doc[\"user\"] != curr_user:\n",
    "        print(count)\n",
    "        print(doc[\"user\"])\n",
    "        count = 0\n",
    "        curr_user = doc[\"user\"]\n",
    "    s_key = doc[\"user\"] + str(count)\n",
    "    lst = doc[2:].values.tolist()\n",
    "    s_value =  lst\n",
    "    style_dict[s_key] = s_value\n",
    "    count += 1\n",
    "    style_vectors.append(s_value)"
   ]
  },
  {
   "cell_type": "code",
   "execution_count": 10,
   "metadata": {},
   "outputs": [
    {
     "name": "stdout",
     "output_type": "stream",
     "text": [
      "<class 'list'>\n",
      "140651\n",
      "140651\n"
     ]
    }
   ],
   "source": [
    "var = style_vectors[1]\n",
    "print(type(var))\n",
    "print(len(style_dict))\n",
    "print(len(style_vectors))"
   ]
  },
  {
   "cell_type": "code",
   "execution_count": 11,
   "metadata": {},
   "outputs": [],
   "source": [
    "classes = []\n",
    "class_labels = {}\n",
    "class_index = 0"
   ]
  },
  {
   "cell_type": "markdown",
   "metadata": {},
   "source": [
    "### Create Unique list of all users"
   ]
  },
  {
   "cell_type": "code",
   "execution_count": 12,
   "metadata": {},
   "outputs": [
    {
     "name": "stdout",
     "output_type": "stream",
     "text": [
      "['germany-c', 'beck-s', 'kaminski-v', 'kean-s', 'symes-k', 'dasovich-j', 'mann-k', 'farmer-d', 'jones-t', 'shackleton-s']\n",
      "{'germany-c': 0, 'beck-s': 1, 'kaminski-v': 2, 'kean-s': 3, 'symes-k': 4, 'dasovich-j': 5, 'mann-k': 6, 'farmer-d': 7, 'jones-t': 8, 'shackleton-s': 9}\n"
     ]
    }
   ],
   "source": [
    "users_lst = df[\"user\"].values.tolist()\n",
    "uniq_users = []\n",
    "for user in users_lst:\n",
    "    if user not in uniq_users:\n",
    "        uniq_users.append(user)\n",
    "for author in uniq_users:\n",
    "    classes.append(author)\n",
    "    class_labels[author] = class_index\n",
    "    class_index += 1\n",
    "print(classes)\n",
    "print(class_labels)"
   ]
  },
  {
   "cell_type": "markdown",
   "metadata": {},
   "source": [
    "### Create vectors of email text and labels"
   ]
  },
  {
   "cell_type": "code",
   "execution_count": 13,
   "metadata": {},
   "outputs": [
    {
     "name": "stdout",
     "output_type": "stream",
     "text": [
      "['call me $', 'chris,  please extend this deal to 12/31/00.  we had gas flow from 12/22/00 - 12/31/00.  thanks,  sherry', 'the unify tables are updated for the fuel changes on cgas and cglf effective  4/1/2000. attached is a spreadsheet with the calculations for zone to zone fuel  percentages.', \"i'm a bad person.  i forgot to tell you i sold ces 880 to 1000 day at the  pool starting tomorrow on deal 217775  also, i just sold ces 2500/day at cglf mainline starting the 16th-31st, deal  217854.  this gas is for atistech.  i assume we schedule that.      \", \"after talking to victor, he said this was the correct process. i'm thinking  joann  can update the ces and calp tickets in the morning when she runs the  new navigator reports. joann can also update dayton's ticket in the afternoon  from our spreadsheet or steve's.   joann, let me or robert know if you need some help in updating these tickets.  thanks. \"]\n",
      "[['call me $'], ['chris,', '', 'please extend this deal to 12/31/00.  we had gas flow from 12/22/00 - 12/31/00.', '', 'thanks,', '', 'sherry'], ['the unify tables are updated for the fuel changes on cgas and cglf effective ', '4/1/2000.', 'attached is a spreadsheet with the calculations for zone to zone fuel ', 'percentages.'], [\"i'm a bad person.  i forgot to tell you i sold ces 880 to 1000 day at the \", 'pool starting tomorrow on deal 217775', '', 'also, i just sold ces 2500/day at cglf mainline starting the 16th-31st, deal ', '217854.  this gas is for atistech.  i assume we schedule that.', '', '', '', '', '', ''], [\"after talking to victor, he said this was the correct process. i'm thinking \", 'joann  can update the ces and calp tickets in the morning when she runs the ', \"new navigator reports. joann can also update dayton's ticket in the afternoon \", \"from our spreadsheet or steve's. \", '', 'joann, let me or robert know if you need some help in updating these tickets.', '', 'thanks.', '']]\n",
      "[0, 0, 0, 0, 0]\n"
     ]
    }
   ],
   "source": [
    "for user,doc in df.iterrows():\n",
    "    text = str(doc[\"new_content\"])\n",
    "    #print(text.lower().split(\"\\n\"))\n",
    "    sentences = text.lower().split(\"\\n\")\n",
    "    #print(sentences)\n",
    "    lines.append(sentences)\n",
    "    text = text.lower().replace(\"\\n\", \" \")\n",
    "    labels.append(class_labels[str(doc[\"user\"])])\n",
    "    texts.append(text)\n",
    "       \n",
    "print(texts[:5])\n",
    "print(lines[:5])\n",
    "print(labels[:5])"
   ]
  },
  {
   "cell_type": "markdown",
   "metadata": {},
   "source": [
    "### Convert the style vectors in an NP array"
   ]
  },
  {
   "cell_type": "code",
   "execution_count": 14,
   "metadata": {},
   "outputs": [
    {
     "name": "stdout",
     "output_type": "stream",
     "text": [
      "[[  1.           2.           0.           7.           6.\n",
      "    1.           5.           0.           2.           1.\n",
      "    0.           0.           0.           0.           0.\n",
      "    0.           0.           1.           1.           3.\n",
      "    3.           3.           0.           1.           0.\n",
      "    1.           1.           1.           3.           1.\n",
      "    2.           0.           0.           3.           0.\n",
      "    0.           0.        ]\n",
      " [  3.           3.33333333   3.7859389   84.          55.\n",
      "    5.          50.          18.          20.          11.\n",
      "    2.           2.           0.           0.           0.\n",
      "    0.           1.           4.           1.25         4.25\n",
      "   17.           5.76470588   1.           4.           0.\n",
      "    1.           1.           1.          11.           6.\n",
      "    6.25         3.           0.          11.           5.\n",
      "    0.7096       0.        ]\n",
      " [  2.          13.           2.12132034 142.         132.\n",
      "   11.         121.           6.          29.           4.\n",
      "    0.           2.           0.           0.           0.\n",
      "    0.           0.           1.           4.          28.\n",
      "   28.           6.           6.          11.           1.\n",
      "    0.85185185   0.7037037    2.          11.          12.\n",
      "   11.25         1.           0.          26.           2.\n",
      "    0.4767       0.        ]\n",
      " [  5.           7.8          7.94984277 201.         165.\n",
      "   19.         146.          27.          59.           9.\n",
      "    2.           4.           0.           0.           0.\n",
      "    0.           1.           2.           3.5         24.\n",
      "   48.           5.20833333   7.          13.           1.\n",
      "    0.72093023   0.51162791   5.          14.          20.\n",
      "    5.3125       0.           1.          46.          15.\n",
      "   -0.5423       0.        ]\n",
      " [  6.           8.66666667   7.82304289 287.         277.\n",
      "   14.         263.           0.          68.          10.\n",
      "    2.           5.           0.           0.           0.\n",
      "    0.           0.           3.           2.66666667  20.33333333\n",
      "   61.           5.68852459  13.          25.           1.\n",
      "    0.80327869   0.68852459   5.          14.          27.\n",
      "    8.57894737   2.           0.          58.          12.\n",
      "    0.6808       0.        ]]\n"
     ]
    }
   ],
   "source": [
    "style_vectors = np.array(style_vectors)\n",
    "print(style_vectors[:5])"
   ]
  },
  {
   "cell_type": "markdown",
   "metadata": {},
   "source": [
    "### Normalize style vector values"
   ]
  },
  {
   "cell_type": "code",
   "execution_count": 15,
   "metadata": {},
   "outputs": [],
   "source": [
    "style_vectors = style_vectors / style_vectors.max(axis=0)"
   ]
  },
  {
   "cell_type": "code",
   "execution_count": 16,
   "metadata": {},
   "outputs": [
    {
     "name": "stdout",
     "output_type": "stream",
     "text": [
      "[[ 2.58197779e-04  2.43902439e-02  0.00000000e+00  3.50555631e-05\n",
      "   3.28109107e-05  1.48705518e-05  2.97711196e-05  0.00000000e+00\n",
      "   5.07150827e-05  5.97157530e-05  0.00000000e+00  0.00000000e+00\n",
      "   0.00000000e+00  0.00000000e+00  0.00000000e+00  0.00000000e+00\n",
      "   0.00000000e+00  7.26216412e-04  3.99520575e-04  2.71837622e-04\n",
      "   8.05823417e-05  1.07526882e-02  0.00000000e+00  9.11327805e-05\n",
      "   0.00000000e+00  1.00000000e+00  1.00000000e+00  5.60224090e-04\n",
      "   1.66666667e-01  7.53068755e-05  7.16845878e-03  0.00000000e+00\n",
      "   0.00000000e+00  9.59692898e-05  0.00000000e+00  0.00000000e+00\n",
      "   0.00000000e+00]\n",
      " [ 7.74593338e-04  4.06504065e-02  2.34830094e-02  4.20666757e-04\n",
      "   3.00766682e-04  7.43527592e-05  2.97711196e-04  2.19244823e-03\n",
      "   5.07150827e-04  6.56873283e-04  8.89679715e-04  2.58097819e-04\n",
      "   0.00000000e+00  0.00000000e+00  0.00000000e+00  0.00000000e+00\n",
      "   1.00704935e-03  2.90486565e-03  4.99400719e-04  3.85103298e-04\n",
      "   4.56633270e-04  2.06620283e-02  1.23808345e-04  3.64531122e-04\n",
      "   0.00000000e+00  1.00000000e+00  1.00000000e+00  5.60224090e-04\n",
      "   6.11111111e-01  4.51841253e-04  2.24014337e-02  2.28136882e-03\n",
      "   0.00000000e+00  3.51887396e-04  6.43335049e-04  7.09600000e-01\n",
      "   0.00000000e+00]\n",
      " [ 5.16395559e-04  1.58536585e-01  1.31578947e-02  7.11127137e-04\n",
      "   7.21840036e-04  1.63576070e-04  7.20461095e-04  7.30816078e-04\n",
      "   7.35368699e-04  2.38863012e-04  0.00000000e+00  2.58097819e-04\n",
      "   0.00000000e+00  0.00000000e+00  0.00000000e+00  0.00000000e+00\n",
      "   0.00000000e+00  7.26216412e-04  1.59808230e-03  2.53715114e-03\n",
      "   7.52101856e-04  2.15053763e-02  7.42850068e-04  1.00246059e-03\n",
      "   4.78468900e-03  8.51851852e-01  7.03703704e-01  1.12044818e-03\n",
      "   6.11111111e-01  9.03682506e-04  4.03225806e-02  7.60456274e-04\n",
      "   0.00000000e+00  8.31733845e-04  2.57334020e-04  4.76700000e-01\n",
      "   0.00000000e+00]\n",
      " [ 1.29098890e-03  9.51219512e-02  4.93104187e-02  1.00659545e-03\n",
      "   9.02300045e-04  2.82540485e-04  8.69316693e-04  3.28867235e-03\n",
      "   1.49609494e-03  5.37441777e-04  8.89679715e-04  5.16195638e-04\n",
      "   0.00000000e+00  0.00000000e+00  0.00000000e+00  0.00000000e+00\n",
      "   1.00704935e-03  1.45243282e-03  1.39832201e-03  2.17470098e-03\n",
      "   1.28931747e-03  1.86678614e-02  8.66658413e-04  1.18472615e-03\n",
      "   4.78468900e-03  7.20930233e-01  5.11627907e-01  2.80112045e-03\n",
      "   7.77777778e-01  1.50613751e-03  1.90412186e-02  0.00000000e+00\n",
      "   1.03842160e-03  1.47152911e-03  1.93000515e-03 -5.42300000e-01\n",
      "   0.00000000e+00]\n",
      " [ 1.54918668e-03  1.05691057e-01  4.85239182e-02  1.43727809e-03\n",
      "   1.51477038e-03  2.08187726e-04  1.56596089e-03  0.00000000e+00\n",
      "   1.72431281e-03  5.97157530e-04  8.89679715e-04  6.45244548e-04\n",
      "   0.00000000e+00  0.00000000e+00  0.00000000e+00  0.00000000e+00\n",
      "   0.00000000e+00  2.17864924e-03  1.06538820e-03  1.84245500e-03\n",
      "   1.63850762e-03  2.03889770e-02  1.60950848e-03  2.27831951e-03\n",
      "   4.78468900e-03  8.03278689e-01  6.88524590e-01  2.80112045e-03\n",
      "   7.77777778e-01  2.03328564e-03  3.07489153e-02  1.52091255e-03\n",
      "   0.00000000e+00  1.85540627e-03  1.54400412e-03  6.80800000e-01\n",
      "   0.00000000e+00]]\n"
     ]
    }
   ],
   "source": [
    "print(style_vectors[:5])"
   ]
  },
  {
   "cell_type": "markdown",
   "metadata": {},
   "source": [
    "### Create Tokenizer from the email content and create data vector with its representation"
   ]
  },
  {
   "cell_type": "code",
   "execution_count": 18,
   "metadata": {},
   "outputs": [],
   "source": [
    "tokenizer = Tokenizer()\n",
    "tokenizer.fit_on_texts(texts)\n",
    "data = np.zeros((len(texts), max_sents, max_sen_len), dtype='int32')\n",
    "for i,sentences in enumerate(lines):\n",
    "    for j, sent in enumerate(sentences):\n",
    "        #print(i,j,sent)\n",
    "        if j < max_sents:\n",
    "            word_tokens = text_to_word_sequence(sent)\n",
    "            k = 0\n",
    "            for _, word in enumerate(word_tokens):\n",
    "                if k < max_sen_len:\n",
    "                    data[i, j, k] = tokenizer.word_index[word]\n",
    "                    k += 1"
   ]
  },
  {
   "cell_type": "markdown",
   "metadata": {},
   "source": [
    "### Create word index from the tokenizer and convert the labels to np array"
   ]
  },
  {
   "cell_type": "code",
   "execution_count": 19,
   "metadata": {},
   "outputs": [],
   "source": [
    "word_index = tokenizer.word_index\n",
    "labels = to_categorical(np.asarray(labels))"
   ]
  },
  {
   "cell_type": "markdown",
   "metadata": {},
   "source": [
    "### Random shuffle the data"
   ]
  },
  {
   "cell_type": "code",
   "execution_count": 20,
   "metadata": {},
   "outputs": [
    {
     "name": "stdout",
     "output_type": "stream",
     "text": [
      "140651\n",
      "[     0      1      2 ... 140648 140649 140650]\n",
      "<class 'numpy.ndarray'>\n"
     ]
    }
   ],
   "source": [
    "print(data.shape[0])\n",
    "indices = np.arange(data.shape[0])\n",
    "print(indices)\n",
    "print(type(labels))\n",
    "np.random.shuffle(indices)\n",
    "data = data[indices]\n",
    "labels = labels[indices]\n",
    "style_vectors = style_vectors[indices]"
   ]
  },
  {
   "cell_type": "markdown",
   "metadata": {},
   "source": [
    "### Split the data into train validation and test data"
   ]
  },
  {
   "cell_type": "code",
   "execution_count": 22,
   "metadata": {},
   "outputs": [
    {
     "name": "stdout",
     "output_type": "stream",
     "text": [
      "28130\n",
      "28130\n",
      "84390 28130 28131\n",
      "84390 28130 28131\n",
      "84390 28130 28131\n"
     ]
    }
   ],
   "source": [
    "val_split = 0.2\n",
    "test_split = 0.2\n",
    "nb_validation_samples = int(val_split * data.shape[0])\n",
    "print(nb_validation_samples)\n",
    "nb_test_samples = int(test_split * data.shape[0])\n",
    "print(nb_test_samples)\n",
    "x_train, x_val, x_test = np.split(data, [int(.6*len(data)), int(.8*len(data))])\n",
    "y_train, y_val, y_test = np.split(labels, [int(.6*len(data)), int(.8*len(data))])\n",
    "style_train, style_val, style_test = np.split(style_vectors, [int(.6*len(data)), int(.8*len(data))])\n",
    "print(len(x_train), len(x_val), len(x_test))\n",
    "print(len(y_train), len(y_val), len(y_test))\n",
    "print(len(style_train), len(style_val), len(style_test))"
   ]
  },
  {
   "cell_type": "markdown",
   "metadata": {},
   "source": [
    "### Use glove to find out the direction of the word in the infinite vector space"
   ]
  },
  {
   "cell_type": "code",
   "execution_count": 23,
   "metadata": {},
   "outputs": [],
   "source": [
    "embeddings_index = {}\n",
    "with open('glove.6B.100d.txt') as f:\n",
    "    for line in f:\n",
    "        values = line.split()\n",
    "        word = values[0]\n",
    "        coefs = np.asarray(values[1:], dtype='float32')\n",
    "        embeddings_index[word] = coefs"
   ]
  },
  {
   "cell_type": "markdown",
   "metadata": {},
   "source": [
    "### create embedding matrix "
   ]
  },
  {
   "cell_type": "code",
   "execution_count": 24,
   "metadata": {},
   "outputs": [],
   "source": [
    "embedding_matrix = np.random.random((len(word_index) + 1, emb_dim))\n",
    "for word, i in word_index.items():\n",
    "    embedding_vector = embeddings_index.get(word)\n",
    "    if embedding_vector is not None:\n",
    "        # words not found in embedding index will be all-zeros.\n",
    "        embedding_matrix[i] = embedding_vector"
   ]
  },
  {
   "cell_type": "markdown",
   "metadata": {},
   "source": [
    "#### create LSTM model "
   ]
  },
  {
   "cell_type": "code",
   "execution_count": 38,
   "metadata": {},
   "outputs": [],
   "source": [
    "embedding_layer = Embedding(len(word_index) + 1,\n",
    "                            emb_dim,\n",
    "                            weights=[embedding_matrix],\n",
    "                            input_length=max_sen_len,\n",
    "                            trainable=True)\n",
    "\n",
    "# Bidirectional LSTM\n",
    "sentence_input = Input(shape=(max_sen_len,), dtype='int32')\n",
    "embedded_sequences = embedding_layer(sentence_input)\n",
    "l_lstm = Bidirectional(LSTM(100))(embedded_sequences)\n",
    "\n",
    "# Bidirectional LSTM\n",
    "sentEncoder = Model(sentence_input, l_lstm)\n",
    "email_input = Input(shape=(max_sents,max_sen_len), dtype='int32')\n",
    "email_encoder = TimeDistributed(sentEncoder)(email_input)\n",
    "l_lstm_sent = Bidirectional(LSTM(100))(email_encoder)\n",
    "\n",
    "# Input the stylometric feature\n",
    "auxiliary_input = Input(shape=(37,))\n",
    "\n",
    "# Concatenate with lstm output\n",
    "x_new = concatenate([l_lstm_sent, auxiliary_input])\n",
    "\n",
    "# Dense layer\n",
    "dense_1 = Dense(128, activation='relu')(x_new)\n",
    "\n",
    "# Dropout layer\n",
    "drop_1 = Dropout(0.3)(dense_1)\n",
    "\n",
    "# Final Dense layer\n",
    "preds = Dense(10, activation='softmax')(drop_1)\n",
    "\n",
    "# Model\n",
    "model = Model(inputs=[email_input, auxiliary_input], outputs=preds)"
   ]
  },
  {
   "cell_type": "markdown",
   "metadata": {},
   "source": [
    "### Compile model with Categorical cross entrop and create callbacks to prevent overfitting."
   ]
  },
  {
   "cell_type": "code",
   "execution_count": 39,
   "metadata": {},
   "outputs": [],
   "source": [
    "\n",
    "model.compile(loss='categorical_crossentropy', optimizer='rmsprop', metrics=['accuracy'])\n",
    "#final_weights_path = os.path.join(os.getcwd(),\"/weights\")\n",
    "#callbacks_list = [EarlyStopping(monitor='val_acc', patience=4, verbose=0)]\n",
    "filepath=\"weights-improvement-{epoch:02d}-{val_accuracy:.2f}.hdf5\"\n",
    "callbacks_list = [ModelCheckpoint(filepath,\n",
    "                            monitor='val_accuracy',\n",
    "                            verbose=1,\n",
    "                            save_best_only=True,\n",
    "                            mode='max'),\n",
    "                      EarlyStopping(monitor='val_accuracy', patience=3, verbose=0)]"
   ]
  },
  {
   "cell_type": "code",
   "execution_count": 37,
   "metadata": {},
   "outputs": [
    {
     "name": "stdout",
     "output_type": "stream",
     "text": [
      "Model: \"model_2\"\n",
      "__________________________________________________________________________________________________\n",
      "Layer (type)                    Output Shape         Param #     Connected to                     \n",
      "==================================================================================================\n",
      "input_2 (InputLayer)            (None, 50, 150)      0                                            \n",
      "__________________________________________________________________________________________________\n",
      "time_distributed_1 (TimeDistrib (None, 50, 200)      14955000    input_2[0][0]                    \n",
      "__________________________________________________________________________________________________\n",
      "bidirectional_2 (Bidirectional) (None, 200)          240800      time_distributed_1[0][0]         \n",
      "__________________________________________________________________________________________________\n",
      "input_3 (InputLayer)            (None, 37)           0                                            \n",
      "__________________________________________________________________________________________________\n",
      "concatenate_1 (Concatenate)     (None, 237)          0           bidirectional_2[0][0]            \n",
      "                                                                 input_3[0][0]                    \n",
      "__________________________________________________________________________________________________\n",
      "dense_1 (Dense)                 (None, 128)          30464       concatenate_1[0][0]              \n",
      "__________________________________________________________________________________________________\n",
      "dropout_1 (Dropout)             (None, 128)          0           dense_1[0][0]                    \n",
      "__________________________________________________________________________________________________\n",
      "dense_2 (Dense)                 (None, 10)           1290        dropout_1[0][0]                  \n",
      "==================================================================================================\n",
      "Total params: 15,227,554\n",
      "Trainable params: 15,227,554\n",
      "Non-trainable params: 0\n",
      "__________________________________________________________________________________________________\n",
      "None\n"
     ]
    }
   ],
   "source": [
    "print(model.summary())"
   ]
  },
  {
   "cell_type": "markdown",
   "metadata": {},
   "source": [
    "### train the model"
   ]
  },
  {
   "cell_type": "code",
   "execution_count": null,
   "metadata": {},
   "outputs": [],
   "source": [
    "model.fit(x=[x_train, style_train], y=y_train, validation_data=([x_val, style_val], y_val), epochs=30, batch_size=32, callbacks = callbacks_list)"
   ]
  },
  {
   "cell_type": "code",
   "execution_count": 32,
   "metadata": {},
   "outputs": [],
   "source": [
    "import h5py\n",
    "model_json = model.to_json()\n",
    "with open(\"model_stylo_1.json\", \"w\") as json_file:\n",
    "    json_file.write(model_json)"
   ]
  },
  {
   "cell_type": "code",
   "execution_count": 23,
   "metadata": {},
   "outputs": [],
   "source": [
    "json_file = open('model_stylo_1.json', 'r')\n",
    "loaded_model_json = json_file.read()\n",
    "json_file.close()\n",
    "loaded_model = model_from_json(loaded_model_json)\n",
    "loaded_model.load_weights(\"weights-improvement-03-0.84.hdf5\")\n",
    "model = loaded_model"
   ]
  },
  {
   "cell_type": "code",
   "execution_count": 24,
   "metadata": {},
   "outputs": [],
   "source": [
    "model.compile(loss='categorical_crossentropy', optimizer='rmsprop', metrics=['accuracy'])\n",
    "#final_weights_path = os.path.join(os.getcwd(),\"/weights\")\n",
    "#callbacks_list = [EarlyStopping(monitor='val_acc', patience=4, verbose=0)]\n",
    "filepath=\"Weights/weights-improvement-{epoch:02d}-{val_accuracy:.2f}.hdf5\"\n",
    "callbacks_list = [ModelCheckpoint(filepath,\n",
    "                            monitor='val_accuracy',\n",
    "                            verbose=1,\n",
    "                            save_best_only=True,\n",
    "                            mode='max'),\n",
    "                      EarlyStopping(monitor='val_accuracy', patience=3, verbose=0)]"
   ]
  },
  {
   "cell_type": "code",
   "execution_count": 23,
   "metadata": {},
   "outputs": [],
   "source": [
    "json_file = open('model_stylo_1.json', 'r')\n",
    "loaded_model_json = json_file.read()\n",
    "json_file.close()\n",
    "loaded_model = model_from_json(loaded_model_json)\n",
    "loaded_model.load_weights(\"Weights/weights-improvement-19-0.88.hdf5\")\n",
    "model = loaded_model"
   ]
  },
  {
   "cell_type": "code",
   "execution_count": 24,
   "metadata": {},
   "outputs": [],
   "source": [
    "model.compile(loss='categorical_crossentropy', optimizer='rmsprop', metrics=['accuracy'])\n",
    "filepath=\"weights-improvement-{epoch:02d}-{val_accuracy:.2f}.hdf5\"\n",
    "callbacks_list = [ModelCheckpoint(filepath,\n",
    "                            monitor='val_accuracy',\n",
    "                            verbose=1,\n",
    "                            save_best_only=True,\n",
    "                            mode='max'),\n",
    "                      EarlyStopping(monitor='val_accuracy', patience=2, verbose=0)]"
   ]
  },
  {
   "cell_type": "code",
   "execution_count": 25,
   "metadata": {},
   "outputs": [],
   "source": [
    "x = model.predict([x_test,style_test])"
   ]
  },
  {
   "cell_type": "code",
   "execution_count": 26,
   "metadata": {},
   "outputs": [
    {
     "name": "stdout",
     "output_type": "stream",
     "text": [
      "28131\n"
     ]
    }
   ],
   "source": [
    "print(len(x))"
   ]
  },
  {
   "cell_type": "code",
   "execution_count": 27,
   "metadata": {},
   "outputs": [
    {
     "name": "stdout",
     "output_type": "stream",
     "text": [
      "[8 7 4 ... 5 3 5]\n",
      "dnsad\n",
      "28131\n"
     ]
    }
   ],
   "source": [
    "y_true = np.argmax(y_test, axis = 1)\n",
    "print(y_true)\n",
    "print(\"dnsad\")\n",
    "print(len(y_true))"
   ]
  },
  {
   "cell_type": "code",
   "execution_count": 28,
   "metadata": {},
   "outputs": [
    {
     "name": "stdout",
     "output_type": "stream",
     "text": [
      "[8 7 8 ... 3 3 5]\n",
      "fdsfds\n",
      "28131\n"
     ]
    }
   ],
   "source": [
    "print(np.argmax(x, axis = 1))\n",
    "y_preds = np.argmax(x, axis = 1)\n",
    "print(\"fdsfds\")\n",
    "print(len(y_preds))"
   ]
  },
  {
   "cell_type": "code",
   "execution_count": 33,
   "metadata": {},
   "outputs": [],
   "source": [
    "def plot_confusion_matrix(cm, classes, title='Confusion matrix', cmap=plt.cm.Blues,true=0):\n",
    "    plt.imshow(cm, interpolation='nearest', cmap=cmap)\n",
    "    plt.suptitle(title)\n",
    "\n",
    "    # plt.colorbar()\n",
    "    tick_marks = np.arange(len(classes))\n",
    "    plt.xticks([0, 1, 2, 3, 4,5,6,7,8,9], classes, rotation=45)\n",
    "    plt.yticks([0, 1, 2, 3, 4,5,6,7,8,9], classes)\n",
    "\n",
    "    classifiction_accuracy = (true/28131) * 100\n",
    "\n",
    "    print(true)\n",
    "    print(classifiction_accuracy)\n",
    "\n",
    "    cm_accuracy = np.trace(cm) / np.sum(cm)\n",
    "    cm = cm.astype('float') / cm.sum(axis=1)[:, np.newaxis]  # for normalization\n",
    "    # cm_accuracy = np.around((cm_accuracy,2)) * 100\n",
    "    plt.title('Accuracy :  ' + str(classifiction_accuracy))\n",
    "\n",
    "    thresh = cm.max() / 2.\n",
    "    np.set_printoptions(precision=2)\n",
    "    cm = np.around(cm, 2)\n",
    "    for i, j in itertools.product(range(cm.shape[0]), range(cm.shape[1])):\n",
    "        plt.text(j, i, cm[i, j], horizontalalignment=\"center\", color=\"white\" if cm[i, j] > thresh else \"black\")\n",
    "\n",
    "    # plt.tight_layout()\n",
    "    plt.ylabel('True label')\n",
    "    plt.xlabel('Predicted label')\n",
    "    figure = plt.gcf() # get current figure\n",
    "    figure.set_size_inches(12, 12)\n",
    "\n",
    "    plt.savefig('Confusion_Matrix_final_1.png')\n",
    "    plt.show()\n",
    "    return "
   ]
  },
  {
   "cell_type": "code",
   "execution_count": 30,
   "metadata": {},
   "outputs": [
    {
     "name": "stdout",
     "output_type": "stream",
     "text": [
      "28131 28131\n"
     ]
    }
   ],
   "source": [
    "y_act = list(y_true)\n",
    "y_pred = list(y_preds)\n",
    "\n",
    "print(len(y_act), len(y_pred))"
   ]
  },
  {
   "cell_type": "code",
   "execution_count": 31,
   "metadata": {},
   "outputs": [
    {
     "name": "stdout",
     "output_type": "stream",
     "text": [
      "26157\n",
      "28131\n",
      "0.929828303295297\n"
     ]
    }
   ],
   "source": [
    "correct = 0\n",
    "for i in range(len(y_act)):\n",
    "\n",
    "    if(y_act[i]==y_pred[i]):\n",
    "        correct+=1\n",
    "print(correct)\n",
    "print(len(y_act))\n",
    "print(correct/len(y_act))"
   ]
  },
  {
   "cell_type": "code",
   "execution_count": 34,
   "metadata": {},
   "outputs": [
    {
     "name": "stdout",
     "output_type": "stream",
     "text": [
      "26157\n",
      "92.98283032952969\n"
     ]
    },
    {
     "data": {
      "image/png": "[encoded data removed]",
      "text/plain": [
       "<Figure size 864x864 with 1 Axes>"
      ]
     },
     "metadata": {
      "needs_background": "light"
     },
     "output_type": "display_data"
    }
   ],
   "source": [
    "import itertools\n",
    "from sklearn.metrics import confusion_matrix,classification_report\n",
    "\n",
    "cnf_matrix = confusion_matrix( y_true = y_true, y_pred = y_pred )\n",
    "plot_confusion_matrix(cnf_matrix, uniq_users, title='confusion_matrix', true=correct)"
   ]
  },
  {
   "cell_type": "code",
   "execution_count": 38,
   "metadata": {},
   "outputs": [
    {
     "data": {
      "text/plain": [
       "(0.9318417765466522, 0.929828303295297, 0.9302888754279421, None)"
      ]
     },
     "execution_count": 38,
     "metadata": {},
     "output_type": "execute_result"
    }
   ],
   "source": [
    "from sklearn.metrics import precision_recall_fscore_support\n",
    "precision_recall_fscore_support(y_true, y_pred, average='weighted')"
   ]
  },
  {
   "cell_type": "code",
   "execution_count": 39,
   "metadata": {},
   "outputs": [
    {
     "name": "stdout",
     "output_type": "stream",
     "text": [
      "              precision    recall  f1-score   support\n",
      "\n",
      "   germany-c       0.94      0.94      0.94      2093\n",
      "      beck-s       0.94      0.94      0.94      2085\n",
      "  kaminski-v       0.99      0.96      0.97      3983\n",
      "      kean-s       0.81      0.93      0.86      2725\n",
      "     symes-k       0.95      0.97      0.96      1913\n",
      "  dasovich-j       0.92      0.90      0.91      3653\n",
      "      mann-k       0.97      0.94      0.96      4237\n",
      "    farmer-d       0.95      0.95      0.95      2349\n",
      "     jones-t       0.92      0.87      0.90      2470\n",
      "shackleton-s       0.91      0.89      0.90      2623\n",
      "\n",
      "    accuracy                           0.93     28131\n",
      "   macro avg       0.93      0.93      0.93     28131\n",
      "weighted avg       0.93      0.93      0.93     28131\n",
      "\n"
     ]
    }
   ],
   "source": [
    "print(classification_report(y_true, y_pred, target_names=uniq_users))"
   ]
  },
  {
   "cell_type": "code",
   "execution_count": null,
   "metadata": {},
   "outputs": [],
   "source": []
  }
 ],
 "metadata": {
  "kernelspec": {
   "display_name": "Python 3",
   "language": "python",
   "name": "python3"
  },
  "language_info": {
   "codemirror_mode": {
    "name": "ipython",
    "version": 3
   },
   "file_extension": ".py",
   "mimetype": "text/x-python",
   "name": "python",
   "nbconvert_exporter": "python",
   "pygments_lexer": "ipython3",
   "version": "3.7.6"
  }
 },
 "nbformat": 4,
 "nbformat_minor": 4
}
