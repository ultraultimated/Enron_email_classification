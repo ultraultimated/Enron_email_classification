{
 "cells": [
  {
   "cell_type": "markdown",
   "metadata": {},
   "source": [
    "  <h2> EXTRACTING TEXT FILES AND STORING INTO CSV </h2>"
   ]
  },
  {
   "cell_type": "code",
   "execution_count": 7,
   "metadata": {},
   "outputs": [],
   "source": [
    "#Libraries\n",
    "import os\n",
    "import pandas as pd  "
   ]
  },
  {
   "cell_type": "markdown",
   "metadata": {},
   "source": [
    "<h2> Data Extraction </h2>"
   ]
  },
  {
   "cell_type": "code",
   "execution_count": 4,
   "metadata": {},
   "outputs": [],
   "source": [
    "# The Following command parses every directory in the dataset and stores the File-ID and text into the extracted_emails.csv file.\n",
    "final_df=pd.DataFrame()\n",
    "for (dirpath, dirnames, filenames) in os.walk(\"/home/jupyter/dataset\"):\n",
    "    \n",
    "    content={}\n",
    "    if len(filenames)!=0:\n",
    "        for file in filenames:\n",
    "            destination=os.path.join(dirpath,file)\n",
    "            #print(file)\n",
    "            try:\n",
    "                with open(destination,'r') as f:\n",
    "\n",
    "                    file_id=dirpath.split(\"/\")[-2:]\n",
    "                    file_id='/'.join(file_id)\n",
    "                    file_id=file_id+'/'+file\n",
    "                    text=f.read()\n",
    "                    content[file_id]=text\n",
    "            except:\n",
    "                continue\n",
    "                \n",
    "        file_ids=list(content.keys())\n",
    "        entire_text=list(content.values())\n",
    "        df=pd.DataFrame({\"File_id\" : file_ids, \"TEXT\": entire_text})\n",
    "        final_df=final_df.append(df)\n",
    "     \n",
    "        \n",
    "final_df.to_csv(\"Extracted_emails.csv\")    "
   ]
  },
  {
   "cell_type": "markdown",
   "metadata": {},
   "source": [
    "<h2> Understanding Data </h2>"
   ]
  },
  {
   "cell_type": "code",
   "execution_count": 11,
   "metadata": {},
   "outputs": [
    {
     "name": "stdout",
     "output_type": "stream",
     "text": [
      "Shape of DataFrame: \n",
      "(412613, 3)\n",
      "---------------Extracted_emails.csv ------------\n"
     ]
    },
    {
     "data": {
      "text/html": [
       "<div>\n",
       "<style scoped>\n",
       "    .dataframe tbody tr th:only-of-type {\n",
       "        vertical-align: middle;\n",
       "    }\n",
       "\n",
       "    .dataframe tbody tr th {\n",
       "        vertical-align: top;\n",
       "    }\n",
       "\n",
       "    .dataframe thead th {\n",
       "        text-align: right;\n",
       "    }\n",
       "</style>\n",
       "<table border=\"1\" class=\"dataframe\">\n",
       "  <thead>\n",
       "    <tr style=\"text-align: right;\">\n",
       "      <th></th>\n",
       "      <th>Unnamed: 0</th>\n",
       "      <th>File_id</th>\n",
       "      <th>TEXT</th>\n",
       "    </tr>\n",
       "  </thead>\n",
       "  <tbody>\n",
       "    <tr>\n",
       "      <th>0</th>\n",
       "      <td>0</td>\n",
       "      <td>dataset/saibi-e/saibi-e_40</td>\n",
       "      <td>Message-ID: &lt;16579932.1075851700252.JavaMail.e...</td>\n",
       "    </tr>\n",
       "    <tr>\n",
       "      <th>1</th>\n",
       "      <td>1</td>\n",
       "      <td>dataset/saibi-e/saibi-e_21</td>\n",
       "      <td>Message-ID: &lt;25967242.1075855152517.JavaMail.e...</td>\n",
       "    </tr>\n",
       "    <tr>\n",
       "      <th>2</th>\n",
       "      <td>2</td>\n",
       "      <td>dataset/saibi-e/saibi-e_63</td>\n",
       "      <td>Message-ID: &lt;9232754.1075841498702.JavaMail.ev...</td>\n",
       "    </tr>\n",
       "    <tr>\n",
       "      <th>3</th>\n",
       "      <td>3</td>\n",
       "      <td>dataset/saibi-e/saibi-e_76</td>\n",
       "      <td>Message-ID: &lt;28246360.1075841499265.JavaMail.e...</td>\n",
       "    </tr>\n",
       "    <tr>\n",
       "      <th>4</th>\n",
       "      <td>4</td>\n",
       "      <td>dataset/saibi-e/saibi-e_87</td>\n",
       "      <td>Message-ID: &lt;2427938.1075852294176.JavaMail.ev...</td>\n",
       "    </tr>\n",
       "  </tbody>\n",
       "</table>\n",
       "</div>"
      ],
      "text/plain": [
       "   Unnamed: 0                     File_id  \\\n",
       "0           0  dataset/saibi-e/saibi-e_40   \n",
       "1           1  dataset/saibi-e/saibi-e_21   \n",
       "2           2  dataset/saibi-e/saibi-e_63   \n",
       "3           3  dataset/saibi-e/saibi-e_76   \n",
       "4           4  dataset/saibi-e/saibi-e_87   \n",
       "\n",
       "                                                TEXT  \n",
       "0  Message-ID: <16579932.1075851700252.JavaMail.e...  \n",
       "1  Message-ID: <25967242.1075855152517.JavaMail.e...  \n",
       "2  Message-ID: <9232754.1075841498702.JavaMail.ev...  \n",
       "3  Message-ID: <28246360.1075841499265.JavaMail.e...  \n",
       "4  Message-ID: <2427938.1075852294176.JavaMail.ev...  "
      ]
     },
     "execution_count": 11,
     "metadata": {},
     "output_type": "execute_result"
    }
   ],
   "source": [
    "data=pd.read_csv(\"/home/jupyter/Enron_email_classification/Extracted_emails.csv\")\n",
    "print (\"Shape of DataFrame: \")\n",
    "print (data.shape)\n",
    "print (\"---------------Extracted_emails.csv ------------\")\n",
    "data.head(5)"
   ]
  },
  {
   "cell_type": "code",
   "execution_count": null,
   "metadata": {},
   "outputs": [],
   "source": []
  }
 ],
 "metadata": {
  "kernelspec": {
   "display_name": "Python 3",
   "language": "python",
   "name": "python3"
  },
  "language_info": {
   "codemirror_mode": {
    "name": "ipython",
    "version": 3
   },
   "file_extension": ".py",
   "mimetype": "text/x-python",
   "name": "python",
   "nbconvert_exporter": "python",
   "pygments_lexer": "ipython3",
   "version": "3.7.6"
  }
 },
 "nbformat": 4,
 "nbformat_minor": 4
}
