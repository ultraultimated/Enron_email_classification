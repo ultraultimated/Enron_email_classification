{
 "cells": [
  {
   "cell_type": "markdown",
   "metadata": {},
   "source": [
    "# Objective\n",
    "## Hyperparameter tuning for SVM, XGBoost, KNN and RFC"
   ]
  },
  {
   "cell_type": "code",
   "execution_count": 19,
   "metadata": {},
   "outputs": [],
   "source": [
    "import pandas as pd\n",
    "import numpy as np\n",
    "from sklearn.model_selection import cross_validate\n",
    "from sklearn.model_selection import cross_val_score\n",
    "from sklearn import svm\n",
    "from sklearn.model_selection import train_test_split\n",
    "from sklearn.preprocessing import StandardScaler\n",
    "from sklearn.preprocessing import minmax_scale\n",
    "from sklearn.metrics import accuracy_score\n",
    "from sklearn import preprocessing\n",
    "from sklearn.preprocessing import label_binarize\n",
    "from sklearn.ensemble import RandomForestClassifier\n",
    "from sklearn.neighbors import KNeighborsClassifier\n",
    "from sklearn.svm import SVC\n",
    "from sklearn.metrics import classification_report, confusion_matrix\n",
    "from sklearn.decomposition import PCA\n",
    "from matplotlib import pyplot as plt"
   ]
  },
  {
   "cell_type": "markdown",
   "metadata": {},
   "source": [
    "### Get the data from the saved dataset"
   ]
  },
  {
   "cell_type": "code",
   "execution_count": 3,
   "metadata": {},
   "outputs": [],
   "source": [
    "df_orig = pd.read_csv('out.zip', compression='zip')"
   ]
  },
  {
   "cell_type": "code",
   "execution_count": 4,
   "metadata": {},
   "outputs": [
    {
     "data": {
      "text/plain": [
       "(140651, 44)"
      ]
     },
     "execution_count": 4,
     "metadata": {},
     "output_type": "execute_result"
    }
   ],
   "source": [
    "df_orig.shape"
   ]
  },
  {
   "cell_type": "code",
   "execution_count": 5,
   "metadata": {},
   "outputs": [],
   "source": [
    "df_orig= df_orig.loc[:, ~df_orig.columns.str.contains('^Unnamed')]"
   ]
  },
  {
   "cell_type": "code",
   "execution_count": 6,
   "metadata": {},
   "outputs": [
    {
     "data": {
      "text/plain": [
       "array(['germany-c', 'beck-s', 'kaminski-v', 'kean-s', 'symes-k',\n",
       "       'dasovich-j', 'mann-k', 'farmer-d', 'jones-t', 'shackleton-s'],\n",
       "      dtype=object)"
      ]
     },
     "execution_count": 6,
     "metadata": {},
     "output_type": "execute_result"
    }
   ],
   "source": [
    "df_orig.user.unique()"
   ]
  },
  {
   "cell_type": "code",
   "execution_count": 7,
   "metadata": {},
   "outputs": [],
   "source": [
    "df_orig['user']=df_orig['user'].map( {'germany-c': 1,'beck-s': 2,'kaminski-v': 3,'kean-s': 4,'symes-k': 5, 'dasovich-j': 6,'mann-k': 7,\n",
    "                            'farmer-d': 8, 'jones-t': 9,  'shackleton-s': 10} ).astype(int)\n"
   ]
  },
  {
   "cell_type": "code",
   "execution_count": 8,
   "metadata": {},
   "outputs": [
    {
     "data": {
      "text/html": [
       "<div>\n",
       "<style scoped>\n",
       "    .dataframe tbody tr th:only-of-type {\n",
       "        vertical-align: middle;\n",
       "    }\n",
       "\n",
       "    .dataframe tbody tr th {\n",
       "        vertical-align: top;\n",
       "    }\n",
       "\n",
       "    .dataframe thead th {\n",
       "        text-align: right;\n",
       "    }\n",
       "</style>\n",
       "<table border=\"1\" class=\"dataframe\">\n",
       "  <thead>\n",
       "    <tr style=\"text-align: right;\">\n",
       "      <th></th>\n",
       "      <th>nr_sentences</th>\n",
       "      <th>avg_number_of_words_per_sent</th>\n",
       "      <th>std_deviation_len</th>\n",
       "      <th>nr_chars</th>\n",
       "      <th>nr_alphabet</th>\n",
       "      <th>nr_upper</th>\n",
       "      <th>nr_lower</th>\n",
       "      <th>nr_numerics</th>\n",
       "      <th>nr_spaces</th>\n",
       "      <th>nr_punctuation</th>\n",
       "      <th>...</th>\n",
       "      <th>most_frequency</th>\n",
       "      <th>nr_pos</th>\n",
       "      <th>nr_function</th>\n",
       "      <th>avg_length_np</th>\n",
       "      <th>nr_positive_word</th>\n",
       "      <th>nr_neg_word</th>\n",
       "      <th>nr_neutral_word</th>\n",
       "      <th>nr_named_entity</th>\n",
       "      <th>score_semantic</th>\n",
       "      <th>nr_greeting</th>\n",
       "    </tr>\n",
       "    <tr>\n",
       "      <th>user</th>\n",
       "      <th></th>\n",
       "      <th></th>\n",
       "      <th></th>\n",
       "      <th></th>\n",
       "      <th></th>\n",
       "      <th></th>\n",
       "      <th></th>\n",
       "      <th></th>\n",
       "      <th></th>\n",
       "      <th></th>\n",
       "      <th></th>\n",
       "      <th></th>\n",
       "      <th></th>\n",
       "      <th></th>\n",
       "      <th></th>\n",
       "      <th></th>\n",
       "      <th></th>\n",
       "      <th></th>\n",
       "      <th></th>\n",
       "      <th></th>\n",
       "      <th></th>\n",
       "    </tr>\n",
       "  </thead>\n",
       "  <tbody>\n",
       "    <tr>\n",
       "      <th>1</th>\n",
       "      <td>112887.0</td>\n",
       "      <td>62446.600388</td>\n",
       "      <td>54651.408442</td>\n",
       "      <td>3735619</td>\n",
       "      <td>3255745</td>\n",
       "      <td>339671</td>\n",
       "      <td>2916074</td>\n",
       "      <td>219756</td>\n",
       "      <td>1124621</td>\n",
       "      <td>255730</td>\n",
       "      <td>...</td>\n",
       "      <td>45353.0</td>\n",
       "      <td>123658.0</td>\n",
       "      <td>279652.0</td>\n",
       "      <td>89130.718145</td>\n",
       "      <td>25228.0</td>\n",
       "      <td>9386.0</td>\n",
       "      <td>673655.0</td>\n",
       "      <td>172396.0</td>\n",
       "      <td>3089.3414</td>\n",
       "      <td>168.0</td>\n",
       "    </tr>\n",
       "    <tr>\n",
       "      <th>2</th>\n",
       "      <td>132817.0</td>\n",
       "      <td>80890.593242</td>\n",
       "      <td>85952.398042</td>\n",
       "      <td>6333860</td>\n",
       "      <td>5896095</td>\n",
       "      <td>411990</td>\n",
       "      <td>5484105</td>\n",
       "      <td>146251</td>\n",
       "      <td>1521478</td>\n",
       "      <td>284492</td>\n",
       "      <td>...</td>\n",
       "      <td>67530.0</td>\n",
       "      <td>141640.0</td>\n",
       "      <td>507894.0</td>\n",
       "      <td>102985.478866</td>\n",
       "      <td>56304.0</td>\n",
       "      <td>10953.0</td>\n",
       "      <td>1159499.0</td>\n",
       "      <td>253988.0</td>\n",
       "      <td>6375.7312</td>\n",
       "      <td>433.0</td>\n",
       "    </tr>\n",
       "    <tr>\n",
       "      <th>3</th>\n",
       "      <td>400661.0</td>\n",
       "      <td>96343.376660</td>\n",
       "      <td>148979.163981</td>\n",
       "      <td>13005216</td>\n",
       "      <td>11521617</td>\n",
       "      <td>1067971</td>\n",
       "      <td>10453646</td>\n",
       "      <td>514171</td>\n",
       "      <td>3027954</td>\n",
       "      <td>959614</td>\n",
       "      <td>...</td>\n",
       "      <td>121294.0</td>\n",
       "      <td>263969.0</td>\n",
       "      <td>850058.0</td>\n",
       "      <td>203739.211873</td>\n",
       "      <td>110102.0</td>\n",
       "      <td>24971.0</td>\n",
       "      <td>2061477.0</td>\n",
       "      <td>557920.0</td>\n",
       "      <td>11597.7758</td>\n",
       "      <td>1988.0</td>\n",
       "    </tr>\n",
       "    <tr>\n",
       "      <th>4</th>\n",
       "      <td>274767.0</td>\n",
       "      <td>107010.598770</td>\n",
       "      <td>108214.157961</td>\n",
       "      <td>16540004</td>\n",
       "      <td>15301313</td>\n",
       "      <td>960268</td>\n",
       "      <td>14341045</td>\n",
       "      <td>425631</td>\n",
       "      <td>3596361</td>\n",
       "      <td>800108</td>\n",
       "      <td>...</td>\n",
       "      <td>172239.0</td>\n",
       "      <td>169395.0</td>\n",
       "      <td>1126125.0</td>\n",
       "      <td>151102.420642</td>\n",
       "      <td>120606.0</td>\n",
       "      <td>55559.0</td>\n",
       "      <td>2822669.0</td>\n",
       "      <td>665177.0</td>\n",
       "      <td>5761.3975</td>\n",
       "      <td>256.0</td>\n",
       "    </tr>\n",
       "    <tr>\n",
       "      <th>5</th>\n",
       "      <td>127625.0</td>\n",
       "      <td>54117.904346</td>\n",
       "      <td>69750.043685</td>\n",
       "      <td>5022194</td>\n",
       "      <td>4496828</td>\n",
       "      <td>465552</td>\n",
       "      <td>4031276</td>\n",
       "      <td>218289</td>\n",
       "      <td>1189417</td>\n",
       "      <td>295827</td>\n",
       "      <td>...</td>\n",
       "      <td>49832.0</td>\n",
       "      <td>122920.0</td>\n",
       "      <td>357048.0</td>\n",
       "      <td>86791.994613</td>\n",
       "      <td>44161.0</td>\n",
       "      <td>13005.0</td>\n",
       "      <td>849009.0</td>\n",
       "      <td>219484.0</td>\n",
       "      <td>4309.6957</td>\n",
       "      <td>282.0</td>\n",
       "    </tr>\n",
       "    <tr>\n",
       "      <th>6</th>\n",
       "      <td>535300.0</td>\n",
       "      <td>111184.063427</td>\n",
       "      <td>141987.170186</td>\n",
       "      <td>28474460</td>\n",
       "      <td>25788426</td>\n",
       "      <td>1795419</td>\n",
       "      <td>23993007</td>\n",
       "      <td>791986</td>\n",
       "      <td>5839218</td>\n",
       "      <td>1856993</td>\n",
       "      <td>...</td>\n",
       "      <td>260238.0</td>\n",
       "      <td>236079.0</td>\n",
       "      <td>1783962.0</td>\n",
       "      <td>176830.188223</td>\n",
       "      <td>187671.0</td>\n",
       "      <td>87024.0</td>\n",
       "      <td>4577819.0</td>\n",
       "      <td>1218198.0</td>\n",
       "      <td>8888.3908</td>\n",
       "      <td>728.0</td>\n",
       "    </tr>\n",
       "    <tr>\n",
       "      <th>7</th>\n",
       "      <td>199658.0</td>\n",
       "      <td>119940.996895</td>\n",
       "      <td>143984.271300</td>\n",
       "      <td>8044251</td>\n",
       "      <td>7317197</td>\n",
       "      <td>530235</td>\n",
       "      <td>6786962</td>\n",
       "      <td>240765</td>\n",
       "      <td>1911677</td>\n",
       "      <td>479174</td>\n",
       "      <td>...</td>\n",
       "      <td>98662.0</td>\n",
       "      <td>254561.0</td>\n",
       "      <td>654517.0</td>\n",
       "      <td>177848.578804</td>\n",
       "      <td>74520.0</td>\n",
       "      <td>16424.0</td>\n",
       "      <td>1405950.0</td>\n",
       "      <td>285374.0</td>\n",
       "      <td>9276.3032</td>\n",
       "      <td>1851.0</td>\n",
       "    </tr>\n",
       "    <tr>\n",
       "      <th>8</th>\n",
       "      <td>126645.0</td>\n",
       "      <td>62575.107525</td>\n",
       "      <td>78572.863057</td>\n",
       "      <td>4416515</td>\n",
       "      <td>3842491</td>\n",
       "      <td>402549</td>\n",
       "      <td>3439942</td>\n",
       "      <td>263085</td>\n",
       "      <td>1154741</td>\n",
       "      <td>302033</td>\n",
       "      <td>...</td>\n",
       "      <td>51986.0</td>\n",
       "      <td>141648.0</td>\n",
       "      <td>321075.0</td>\n",
       "      <td>114060.132727</td>\n",
       "      <td>35257.0</td>\n",
       "      <td>8199.0</td>\n",
       "      <td>790533.0</td>\n",
       "      <td>228479.0</td>\n",
       "      <td>4501.1840</td>\n",
       "      <td>206.0</td>\n",
       "    </tr>\n",
       "    <tr>\n",
       "      <th>9</th>\n",
       "      <td>125579.0</td>\n",
       "      <td>91439.328233</td>\n",
       "      <td>93508.984610</td>\n",
       "      <td>5438231</td>\n",
       "      <td>4885377</td>\n",
       "      <td>552601</td>\n",
       "      <td>4332776</td>\n",
       "      <td>201347</td>\n",
       "      <td>1208427</td>\n",
       "      <td>330697</td>\n",
       "      <td>...</td>\n",
       "      <td>59890.0</td>\n",
       "      <td>155210.0</td>\n",
       "      <td>377495.0</td>\n",
       "      <td>129133.973344</td>\n",
       "      <td>47805.0</td>\n",
       "      <td>8955.0</td>\n",
       "      <td>895921.0</td>\n",
       "      <td>248875.0</td>\n",
       "      <td>5957.7373</td>\n",
       "      <td>194.0</td>\n",
       "    </tr>\n",
       "    <tr>\n",
       "      <th>10</th>\n",
       "      <td>171997.0</td>\n",
       "      <td>78107.838959</td>\n",
       "      <td>103448.780712</td>\n",
       "      <td>7274652</td>\n",
       "      <td>6448993</td>\n",
       "      <td>625857</td>\n",
       "      <td>5823136</td>\n",
       "      <td>349619</td>\n",
       "      <td>1599166</td>\n",
       "      <td>458654</td>\n",
       "      <td>...</td>\n",
       "      <td>74228.0</td>\n",
       "      <td>173656.0</td>\n",
       "      <td>476013.0</td>\n",
       "      <td>136414.988266</td>\n",
       "      <td>57965.0</td>\n",
       "      <td>13391.0</td>\n",
       "      <td>1188287.0</td>\n",
       "      <td>329509.0</td>\n",
       "      <td>6723.7175</td>\n",
       "      <td>302.0</td>\n",
       "    </tr>\n",
       "  </tbody>\n",
       "</table>\n",
       "<p>10 rows × 37 columns</p>\n",
       "</div>"
      ],
      "text/plain": [
       "      nr_sentences  avg_number_of_words_per_sent  std_deviation_len  nr_chars  \\\n",
       "user                                                                            \n",
       "1         112887.0                  62446.600388       54651.408442   3735619   \n",
       "2         132817.0                  80890.593242       85952.398042   6333860   \n",
       "3         400661.0                  96343.376660      148979.163981  13005216   \n",
       "4         274767.0                 107010.598770      108214.157961  16540004   \n",
       "5         127625.0                  54117.904346       69750.043685   5022194   \n",
       "6         535300.0                 111184.063427      141987.170186  28474460   \n",
       "7         199658.0                 119940.996895      143984.271300   8044251   \n",
       "8         126645.0                  62575.107525       78572.863057   4416515   \n",
       "9         125579.0                  91439.328233       93508.984610   5438231   \n",
       "10        171997.0                  78107.838959      103448.780712   7274652   \n",
       "\n",
       "      nr_alphabet  nr_upper  nr_lower  nr_numerics  nr_spaces  nr_punctuation  \\\n",
       "user                                                                            \n",
       "1         3255745    339671   2916074       219756    1124621          255730   \n",
       "2         5896095    411990   5484105       146251    1521478          284492   \n",
       "3        11521617   1067971  10453646       514171    3027954          959614   \n",
       "4        15301313    960268  14341045       425631    3596361          800108   \n",
       "5         4496828    465552   4031276       218289    1189417          295827   \n",
       "6        25788426   1795419  23993007       791986    5839218         1856993   \n",
       "7         7317197    530235   6786962       240765    1911677          479174   \n",
       "8         3842491    402549   3439942       263085    1154741          302033   \n",
       "9         4885377    552601   4332776       201347    1208427          330697   \n",
       "10        6448993    625857   5823136       349619    1599166          458654   \n",
       "\n",
       "      ...  most_frequency    nr_pos  nr_function  avg_length_np  \\\n",
       "user  ...                                                         \n",
       "1     ...         45353.0  123658.0     279652.0   89130.718145   \n",
       "2     ...         67530.0  141640.0     507894.0  102985.478866   \n",
       "3     ...        121294.0  263969.0     850058.0  203739.211873   \n",
       "4     ...        172239.0  169395.0    1126125.0  151102.420642   \n",
       "5     ...         49832.0  122920.0     357048.0   86791.994613   \n",
       "6     ...        260238.0  236079.0    1783962.0  176830.188223   \n",
       "7     ...         98662.0  254561.0     654517.0  177848.578804   \n",
       "8     ...         51986.0  141648.0     321075.0  114060.132727   \n",
       "9     ...         59890.0  155210.0     377495.0  129133.973344   \n",
       "10    ...         74228.0  173656.0     476013.0  136414.988266   \n",
       "\n",
       "      nr_positive_word  nr_neg_word  nr_neutral_word  nr_named_entity  \\\n",
       "user                                                                    \n",
       "1              25228.0       9386.0         673655.0         172396.0   \n",
       "2              56304.0      10953.0        1159499.0         253988.0   \n",
       "3             110102.0      24971.0        2061477.0         557920.0   \n",
       "4             120606.0      55559.0        2822669.0         665177.0   \n",
       "5              44161.0      13005.0         849009.0         219484.0   \n",
       "6             187671.0      87024.0        4577819.0        1218198.0   \n",
       "7              74520.0      16424.0        1405950.0         285374.0   \n",
       "8              35257.0       8199.0         790533.0         228479.0   \n",
       "9              47805.0       8955.0         895921.0         248875.0   \n",
       "10             57965.0      13391.0        1188287.0         329509.0   \n",
       "\n",
       "      score_semantic  nr_greeting  \n",
       "user                               \n",
       "1          3089.3414        168.0  \n",
       "2          6375.7312        433.0  \n",
       "3         11597.7758       1988.0  \n",
       "4          5761.3975        256.0  \n",
       "5          4309.6957        282.0  \n",
       "6          8888.3908        728.0  \n",
       "7          9276.3032       1851.0  \n",
       "8          4501.1840        206.0  \n",
       "9          5957.7373        194.0  \n",
       "10         6723.7175        302.0  \n",
       "\n",
       "[10 rows x 37 columns]"
      ]
     },
     "execution_count": 8,
     "metadata": {},
     "output_type": "execute_result"
    }
   ],
   "source": [
    "df_t = df_orig.groupby('user').sum()\n",
    "df_t"
   ]
  },
  {
   "cell_type": "code",
   "execution_count": 9,
   "metadata": {},
   "outputs": [],
   "source": [
    "maxPerson = 10"
   ]
  },
  {
   "cell_type": "code",
   "execution_count": 10,
   "metadata": {},
   "outputs": [
    {
     "data": {
      "text/plain": [
       "user\n",
       "1     10163\n",
       "2     10434\n",
       "3     20719\n",
       "4     13851\n",
       "5      9455\n",
       "6     18087\n",
       "7     20622\n",
       "8     11768\n",
       "9     12222\n",
       "10    13330\n",
       "dtype: int64"
      ]
     },
     "execution_count": 10,
     "metadata": {},
     "output_type": "execute_result"
    }
   ],
   "source": [
    "df1=df_orig.groupby('user').size()\n",
    "df1"
   ]
  },
  {
   "cell_type": "code",
   "execution_count": 11,
   "metadata": {},
   "outputs": [],
   "source": [
    "df= df_orig.groupby('user',as_index=False)"
   ]
  },
  {
   "cell_type": "code",
   "execution_count": 12,
   "metadata": {},
   "outputs": [],
   "source": [
    "df=df.apply(lambda df: df.sample(9000))"
   ]
  },
  {
   "cell_type": "code",
   "execution_count": 13,
   "metadata": {},
   "outputs": [
    {
     "data": {
      "text/plain": [
       "(90000, 41)"
      ]
     },
     "execution_count": 13,
     "metadata": {},
     "output_type": "execute_result"
    }
   ],
   "source": [
    "df.shape"
   ]
  },
  {
   "cell_type": "code",
   "execution_count": 14,
   "metadata": {},
   "outputs": [
    {
     "name": "stdout",
     "output_type": "stream",
     "text": [
      "(9000, 41)\n",
      "(9000, 41)\n",
      "(9000, 41)\n",
      "(9000, 41)\n",
      "(9000, 41)\n",
      "(9000, 41)\n",
      "(9000, 41)\n",
      "(9000, 41)\n",
      "(9000, 41)\n",
      "(9000, 41)\n"
     ]
    }
   ],
   "source": [
    "for user in range(1,maxPerson+1):\n",
    "    random = df.loc[df['user'] == user]\n",
    "    print(random.shape)"
   ]
  },
  {
   "cell_type": "code",
   "execution_count": 15,
   "metadata": {},
   "outputs": [],
   "source": [
    "X=df[[ 'nr_sentences','avg_number_of_words_per_sent', 'std_deviation_len', 'nr_chars',\n",
    "       'nr_alphabet', 'nr_upper', 'nr_lower', 'nr_numerics', 'nr_spaces',\n",
    "       'nr_punctuation', 'nr_commas', 'nr_dots', 'nr_exclamation', 'nr_qmark',\n",
    "       'nr_colons', 'nr_semicolons', 'nr_hyphens', 'num_paras', 'av_sent',\n",
    "       'av_words', 'nr_words', 'avg_characters_per_word', 'nr_longwords',\n",
    "       'nr_stopwords', 'nr_error', 'TTR', 'HTR', 'most_frequency', 'nr_pos',\n",
    "       'nr_function', 'avg_length_np', 'nr_positive_word', 'nr_neg_word',\n",
    "       'nr_neutral_word', 'nr_named_entity', 'score_semantic', 'nr_greeting']]\n",
    "Y=df[['user']]"
   ]
  },
  {
   "cell_type": "code",
   "execution_count": 16,
   "metadata": {},
   "outputs": [],
   "source": [
    "X=StandardScaler().fit_transform(X)"
   ]
  },
  {
   "cell_type": "code",
   "execution_count": 17,
   "metadata": {},
   "outputs": [
    {
     "data": {
      "text/plain": [
       "(90000, 37)"
      ]
     },
     "execution_count": 17,
     "metadata": {},
     "output_type": "execute_result"
    }
   ],
   "source": [
    "X.shape"
   ]
  },
  {
   "cell_type": "code",
   "execution_count": 18,
   "metadata": {},
   "outputs": [],
   "source": [
    "train_X,test_X,train_Y,test_Y=train_test_split(X,Y,test_size=0.2)"
   ]
  },
  {
   "cell_type": "markdown",
   "metadata": {},
   "source": [
    "### K Means Clustering"
   ]
  },
  {
   "cell_type": "code",
   "execution_count": 76,
   "metadata": {},
   "outputs": [
    {
     "data": {
      "text/plain": [
       "KMeans(algorithm='auto', copy_x=True, init='k-means++', max_iter=300,\n",
       "       n_clusters=10, n_init=10, n_jobs=None, precompute_distances='auto',\n",
       "       random_state=0, tol=0.0001, verbose=0)"
      ]
     },
     "execution_count": 76,
     "metadata": {},
     "output_type": "execute_result"
    }
   ],
   "source": [
    "from sklearn.cluster import KMeans\n",
    "from matplotlib import pyplot as plt\n",
    "\n",
    "kmeans = KMeans(n_clusters=10, init='k-means++', max_iter=300, n_init=10, random_state=0)\n",
    "kmeans.fit(u_train_X)"
   ]
  },
  {
   "cell_type": "code",
   "execution_count": 46,
   "metadata": {},
   "outputs": [
    {
     "data": {
      "image/png": "[encoded data removed]",
      "text/plain": [
       "<Figure size 432x288 with 1 Axes>"
      ]
     },
     "metadata": {
      "needs_background": "light"
     },
     "output_type": "display_data"
    }
   ],
   "source": [
    "plt.plot(range(len(wcss)), wcss, marker=\"o\")\n",
    "plt.title('Elbow Method')\n",
    "plt.xlabel('Number of clusters')\n",
    "plt.ylabel('WCSS')\n",
    "plt.show()"
   ]
  },
  {
   "cell_type": "markdown",
   "metadata": {},
   "source": [
    "### KNearest Neighbors"
   ]
  },
  {
   "cell_type": "code",
   "execution_count": 69,
   "metadata": {},
   "outputs": [
    {
     "name": "stdout",
     "output_type": "stream",
     "text": [
      "              precision    recall  f1-score   support\n",
      "\n",
      "           1       0.35      0.44      0.39      1005\n",
      "           2       0.30      0.37      0.33       959\n",
      "           3       0.37      0.45      0.41      1025\n",
      "           4       0.34      0.33      0.34      1024\n",
      "           5       0.38      0.43      0.40      1008\n",
      "           6       0.32      0.15      0.21       981\n",
      "           7       0.28      0.29      0.29       957\n",
      "           8       0.38      0.34      0.36       982\n",
      "           9       0.35      0.22      0.27      1045\n",
      "          10       0.30      0.36      0.32      1014\n",
      "\n",
      "    accuracy                           0.34     10000\n",
      "   macro avg       0.34      0.34      0.33     10000\n",
      "weighted avg       0.34      0.34      0.33     10000\n",
      "\n"
     ]
    }
   ],
   "source": [
    "clf = KNeighborsClassifier(n_neighbors = 150,weights ='distance', algorithm=\"kd_tree\")\n",
    "clf.fit(train_X, train_Y.values.ravel())\n",
    "Y_pred = clf.predict(test_X)\n",
    "print(classification_report(test_Y, Y_pred))"
   ]
  },
  {
   "cell_type": "code",
   "execution_count": 239,
   "metadata": {},
   "outputs": [
    {
     "name": "stdout",
     "output_type": "stream",
     "text": [
      "              precision    recall  f1-score   support\n",
      "\n",
      "           1       0.41      0.36      0.38      2600\n",
      "           2       0.42      0.27      0.33      2600\n",
      "           3       0.30      0.31      0.30      2600\n",
      "           4       0.27      0.53      0.36      2600\n",
      "           5       0.31      0.15      0.21      2600\n",
      "\n",
      "    accuracy                           0.32     13000\n",
      "   macro avg       0.34      0.32      0.32     13000\n",
      "weighted avg       0.34      0.32      0.32     13000\n",
      "\n"
     ]
    }
   ],
   "source": [
    "print(classification_report(test_Y, Y_pred))"
   ]
  },
  {
   "cell_type": "markdown",
   "metadata": {},
   "source": [
    "### PC Analysis"
   ]
  },
  {
   "cell_type": "code",
   "execution_count": 52,
   "metadata": {},
   "outputs": [
    {
     "data": {
      "text/plain": [
       "5"
      ]
     },
     "execution_count": 52,
     "metadata": {},
     "output_type": "execute_result"
    }
   ],
   "source": [
    "pca = PCA(.95)\n",
    "components=pca.fit(train_X)\n",
    "pca.n_components_ "
   ]
  },
  {
   "cell_type": "code",
   "execution_count": 53,
   "metadata": {},
   "outputs": [],
   "source": [
    "train_X = pca.transform(train_X)\n",
    "test_X = pca.transform(test_X)"
   ]
  },
  {
   "cell_type": "code",
   "execution_count": 87,
   "metadata": {},
   "outputs": [],
   "source": [
    "### Accuracy for KNN\n",
    "# 100 accuracy: 0.4874 (+/- 0.0147)\n",
    "# 110 accuracy: 0.4870 (+/- 0.0148)\n",
    "# 120 accuracy: 0.4872 (+/- 0.0147)\n",
    "# 130 accuracy: 0.4855 (+/- 0.0126)\n",
    "# 140 accuracy: 0.4862 (+/- 0.0120)\n",
    "# 150 accuracy: 0.4855 (+/- 0.0138)\n",
    "# 160 accuracy: 0.4851 (+/- 0.0153)\n",
    "# 170 accuracy: 0.4839 (+/- 0.0118)\n",
    "# 180 accuracy: 0.4829 (+/- 0.0131)\n",
    "# 190 accuracy: 0.4836 (+/- 0.0130)"
   ]
  },
  {
   "cell_type": "code",
   "execution_count": 32,
   "metadata": {},
   "outputs": [
    {
     "data": {
      "text/plain": [
       "0.5506"
      ]
     },
     "execution_count": 32,
     "metadata": {},
     "output_type": "execute_result"
    }
   ],
   "source": [
    "knn = KNeighborsClassifier(n_neighbors = 150,weights ='distance')\n",
    "knn.fit(train_X, np.asarray(train_Y.values.ravel()))\n",
    "Y_pred = knn.predict(test_X)\n",
    "accuracy = accuracy_score(test_Y, Y_pred)\n",
    "accuracy"
   ]
  },
  {
   "cell_type": "code",
   "execution_count": 344,
   "metadata": {},
   "outputs": [
    {
     "name": "stdout",
     "output_type": "stream",
     "text": [
      "accuracy: 0.5032 (+/- 0.0089)\n"
     ]
    }
   ],
   "source": [
    "clf = KNeighborsClassifier(n_neighbors = 150,weights ='distance', algorithm=\"ball_tree\")\n",
    "scoring = \"accuracy\"\n",
    "scores = cross_val_score(clf, train_X, train_Y.values.ravel(), cv=5, scoring=scoring)\n",
    "# knn_results[i] = scores\n",
    "print(scoring + \": %0.4f (+/- %0.4f)\" % (scores.mean(), scores.std() * 2))"
   ]
  },
  {
   "cell_type": "markdown",
   "metadata": {},
   "source": [
    "### Cross-validation accuracy for KNN "
   ]
  },
  {
   "cell_type": "code",
   "execution_count": 74,
   "metadata": {},
   "outputs": [
    {
     "name": "stdout",
     "output_type": "stream",
     "text": [
      "100 accuracy: 0.4874 (+/- 0.0147)\n",
      "110 accuracy: 0.4870 (+/- 0.0148)\n",
      "120 accuracy: 0.4872 (+/- 0.0147)\n",
      "130 accuracy: 0.4855 (+/- 0.0126)\n",
      "140 accuracy: 0.4862 (+/- 0.0120)\n",
      "150 accuracy: 0.4855 (+/- 0.0138)\n",
      "160 accuracy: 0.4851 (+/- 0.0153)\n",
      "170 accuracy: 0.4839 (+/- 0.0118)\n",
      "180 accuracy: 0.4829 (+/- 0.0131)\n",
      "190 accuracy: 0.4836 (+/- 0.0130)\n"
     ]
    }
   ],
   "source": [
    "from sklearn.model_selection import cross_val_score\n",
    "\n",
    "knn_results = {}\n",
    "for i in range(100, 200, 10):\n",
    "    print(i, end = \" \")\n",
    "    clf = KNeighborsClassifier(n_neighbors = i,weights ='distance', algorithm=\"ball_tree\")\n",
    "    scoring = \"accuracy\"\n",
    "    scores = cross_val_score(clf, train_X, train_Y.values.ravel(), cv=5, scoring=scoring)\n",
    "    knn_results[i] = scores\n",
    "    print(scoring + \": %0.4f (+/- %0.4f)\" % (scores.mean(), scores.std() * 2))"
   ]
  },
  {
   "cell_type": "code",
   "execution_count": 219,
   "metadata": {},
   "outputs": [
    {
     "data": {
      "text/plain": [
       "[<matplotlib.lines.Line2D at 0x7f866fab85d0>,\n",
       " <matplotlib.lines.Line2D at 0x7f8670a6b190>,\n",
       " <matplotlib.lines.Line2D at 0x7f8670a6b090>,\n",
       " <matplotlib.lines.Line2D at 0x7f866eb455d0>,\n",
       " <matplotlib.lines.Line2D at 0x7f866eb459d0>]"
      ]
     },
     "execution_count": 219,
     "metadata": {},
     "output_type": "execute_result"
    },
    {
     "data": {
      "image/png": "[encoded data removed]",
      "text/plain": [
       "<Figure size 432x288 with 1 Axes>"
      ]
     },
     "metadata": {
      "needs_background": "light"
     },
     "output_type": "display_data"
    }
   ],
   "source": [
    "plt.plot(list(knn_results.keys()), list(knn_results.values()))"
   ]
  },
  {
   "cell_type": "code",
   "execution_count": 24,
   "metadata": {},
   "outputs": [],
   "source": [
    "# for i in range(1,60):\n",
    "#     knn = KNeighborsClassifier(n_neighbors = i,weights ='distance')\n",
    "#     knn.fit(train_X, np.asarray(train_Y))\n",
    "#     Y_pred = knn.predict(test_X)\n",
    "#     accuracy = accuracy_score(test_Y, Y_pred)\n",
    "#     print (\"Neighbour:\", i, \" Accuracy:\",accuracy)"
   ]
  },
  {
   "cell_type": "markdown",
   "metadata": {},
   "source": [
    "### SVM Classifier"
   ]
  },
  {
   "cell_type": "code",
   "execution_count": 2,
   "metadata": {},
   "outputs": [
    {
     "data": {
      "text/plain": [
       "(0.2182, 0.233, 0.2476, 0.222, 0.2408, 0.2653, 0.2238, 0.2458, 0.2818)"
      ]
     },
     "execution_count": 2,
     "metadata": {},
     "output_type": "execute_result"
    }
   ],
   "source": [
    "import pandas as pd \n",
    "0.2182,0.2330,0.2476,0.2220,0.2408,0.2653,0.2238,0.2458,0.2818\n",
    "\n",
    "0.2653, 0.2996, 0.3259, 0.2935, 0.3321, 0.3623"
   ]
  },
  {
   "cell_type": "code",
   "execution_count": 22,
   "metadata": {},
   "outputs": [],
   "source": [
    "svm_hyper = {'Degree': [1,1,1,2,2,2,3,3,3],\n",
    "        'Coef0': [2,3,4,2,3,4,2,3,4],\n",
    "        'Accuracy': [0.2182,0.2330,0.2476,0.2220,0.2408,0.2653,0.2238,0.2458,0.2818]\n",
    "        }\n",
    "\n",
    "df = pd.DataFrame(cars, columns = ['Degree', 'Coef0', 'Accuracy'])"
   ]
  },
  {
   "cell_type": "code",
   "execution_count": 25,
   "metadata": {},
   "outputs": [
    {
     "data": {
      "text/html": [
       "<div>\n",
       "<style scoped>\n",
       "    .dataframe tbody tr th:only-of-type {\n",
       "        vertical-align: middle;\n",
       "    }\n",
       "\n",
       "    .dataframe tbody tr th {\n",
       "        vertical-align: top;\n",
       "    }\n",
       "\n",
       "    .dataframe thead th {\n",
       "        text-align: right;\n",
       "    }\n",
       "</style>\n",
       "<table border=\"1\" class=\"dataframe\">\n",
       "  <thead>\n",
       "    <tr style=\"text-align: right;\">\n",
       "      <th></th>\n",
       "      <th>Degree</th>\n",
       "      <th>Coef0</th>\n",
       "      <th>Accuracy</th>\n",
       "    </tr>\n",
       "  </thead>\n",
       "  <tbody>\n",
       "    <tr>\n",
       "      <th>0</th>\n",
       "      <td>1</td>\n",
       "      <td>2</td>\n",
       "      <td>0.2182</td>\n",
       "    </tr>\n",
       "    <tr>\n",
       "      <th>1</th>\n",
       "      <td>1</td>\n",
       "      <td>3</td>\n",
       "      <td>0.2330</td>\n",
       "    </tr>\n",
       "    <tr>\n",
       "      <th>2</th>\n",
       "      <td>1</td>\n",
       "      <td>4</td>\n",
       "      <td>0.2476</td>\n",
       "    </tr>\n",
       "    <tr>\n",
       "      <th>3</th>\n",
       "      <td>2</td>\n",
       "      <td>2</td>\n",
       "      <td>0.2220</td>\n",
       "    </tr>\n",
       "    <tr>\n",
       "      <th>4</th>\n",
       "      <td>2</td>\n",
       "      <td>3</td>\n",
       "      <td>0.2408</td>\n",
       "    </tr>\n",
       "    <tr>\n",
       "      <th>5</th>\n",
       "      <td>2</td>\n",
       "      <td>4</td>\n",
       "      <td>0.2653</td>\n",
       "    </tr>\n",
       "    <tr>\n",
       "      <th>6</th>\n",
       "      <td>3</td>\n",
       "      <td>2</td>\n",
       "      <td>0.2238</td>\n",
       "    </tr>\n",
       "    <tr>\n",
       "      <th>7</th>\n",
       "      <td>3</td>\n",
       "      <td>3</td>\n",
       "      <td>0.2458</td>\n",
       "    </tr>\n",
       "    <tr>\n",
       "      <th>8</th>\n",
       "      <td>3</td>\n",
       "      <td>4</td>\n",
       "      <td>0.2818</td>\n",
       "    </tr>\n",
       "  </tbody>\n",
       "</table>\n",
       "</div>"
      ],
      "text/plain": [
       "   Degree  Coef0  Accuracy\n",
       "0       1      2    0.2182\n",
       "1       1      3    0.2330\n",
       "2       1      4    0.2476\n",
       "3       2      2    0.2220\n",
       "4       2      3    0.2408\n",
       "5       2      4    0.2653\n",
       "6       3      2    0.2238\n",
       "7       3      3    0.2458\n",
       "8       3      4    0.2818"
      ]
     },
     "execution_count": 25,
     "metadata": {},
     "output_type": "execute_result"
    }
   ],
   "source": [
    "df.style.set_caption(\"Hello World\")\n",
    "df"
   ]
  },
  {
   "cell_type": "code",
   "execution_count": null,
   "metadata": {},
   "outputs": [],
   "source": [
    "# cc: 1, dd: 2 accuracy: 0.2182\n",
    "# cc: 1, dd: 3 accuracy: 0.2330\n",
    "# cc: 1, dd: 4 accuracy: 0.2476\n",
    "# cc: 2, dd: 2 accuracy: 0.2220\n",
    "# cc: 2, dd: 3 accuracy: 0.2408\n",
    "# cc: 2, dd: 4 accuracy: 0.2653\n",
    "# cc: 3, dd: 2 accuracy: 0.2238\n",
    "# cc: 3, dd: 3 accuracy: 0.2458\n",
    "# cc: 3, dd: 4 accuracy: 0.2818\n",
    "\n",
    "\n",
    "# cc: 2, dd: 4 accuracy: 0.2653\n",
    "# cc: 2, dd: 5 accuracy: 0.2996\n",
    "# cc: 2, dd: 6 accuracy: 0.3259\n",
    "# cc: 4, dd: 4 accuracy: 0.2935\n",
    "# cc: 4, dd: 5 accuracy: 0.3321\n",
    "# cc: 4, dd: 6 accuracy: 0.3623\n",
    "# cc: 8, dd: 4 accuracy: 0.3202"
   ]
  },
  {
   "cell_type": "markdown",
   "metadata": {},
   "source": [
    "### Parameter tuning for SVC using cross-validation accuracy score"
   ]
  },
  {
   "cell_type": "code",
   "execution_count": null,
   "metadata": {},
   "outputs": [
    {
     "name": "stdout",
     "output_type": "stream",
     "text": [
      "cc: 2, dd: 4 accuracy: 0.2653 (+/- 0.0072)\n",
      "cc: 2, dd: 5 accuracy: 0.2996 (+/- 0.0077)\n",
      "cc: 2, dd: 6 accuracy: 0.3259 (+/- 0.0072)\n",
      "cc: 4, dd: 4 accuracy: 0.2935 (+/- 0.0062)\n",
      "cc: 4, dd: 5 accuracy: 0.3321 (+/- 0.0096)\n",
      "cc: 4, dd: 6 accuracy: 0.3623 (+/- 0.0088)\n",
      "cc: 8, dd: 4 accuracy: 0.3202 (+/- 0.0091)\n"
     ]
    }
   ],
   "source": [
    "from sklearn.svm import SVC\n",
    "\n",
    "svm_results = []\n",
    "for cc in [2,4,8]:\n",
    "    for dd in [4,5,6]:\n",
    "        clf = SVC(kernel='poly', degree = dd, coef0 = cc)\n",
    "        # svclassifier.fit(train_X, train_Y.values.ravel())\n",
    "        scoring = \"accuracy\"\n",
    "        scores = cross_val_score(clf, train_X, train_Y.values.ravel(), cv=5, scoring=scoring)\n",
    "        # svm_results[i] = scores\n",
    "        print(\"cc: \" + str(cc) + \", dd: \" + str(dd), end = \" \")\n",
    "        print(scoring + \": %0.4f (+/- %0.4f)\" % (scores.mean(), scores.std() * 2))\n"
   ]
  },
  {
   "cell_type": "code",
   "execution_count": 102,
   "metadata": {},
   "outputs": [
    {
     "name": "stdout",
     "output_type": "stream",
     "text": [
      "time taken: 705.726092\n"
     ]
    }
   ],
   "source": [
    "from datetime import datetime\n",
    "clf = SVC(kernel='poly', degree = 3, coef0 = 2)\n",
    "# clf = SVC(kernel='rbf', C=0.05)\n",
    "# scoring = \"accuracy\"\n",
    "start = datetime.now()\n",
    "clf.fit(train_X, train_Y.values.ravel())\n",
    "# scores = cross_val_score(clf, train_X, train_Y.values.ravel(), cv=5, scoring=scoring)\n",
    "end = datetime.now()\n",
    "print(\"time taken: \" + str((end-start).total_seconds()))\n",
    "# svm_results[i] = scores"
   ]
  },
  {
   "cell_type": "code",
   "execution_count": null,
   "metadata": {},
   "outputs": [],
   "source": [
    "pred_Y = clf.predict(test_X)\n",
    "# print(\"cc: \" + str(cc) + \", dd: \" + str(dd), end = \" \")\n",
    "# print(scoring + \": %0.4f (+/- %0.4f)\" % (scores.mean(), scores.std() * 2))\n",
    "# accuracy = accuracy_score(test_Y, pred_Y)\n",
    "# accuracy"
   ]
  },
  {
   "cell_type": "code",
   "execution_count": 108,
   "metadata": {},
   "outputs": [],
   "source": [
    "from sklearn.metrics import classification_report, confusion_matrix, precision_recall_fscore_support\n",
    "report = precision_recall_fscore_support(test_Y, pred_Y)"
   ]
  },
  {
   "cell_type": "code",
   "execution_count": 110,
   "metadata": {},
   "outputs": [
    {
     "data": {
      "text/plain": [
       "['__add__',\n",
       " '__class__',\n",
       " '__contains__',\n",
       " '__delattr__',\n",
       " '__dir__',\n",
       " '__doc__',\n",
       " '__eq__',\n",
       " '__format__',\n",
       " '__ge__',\n",
       " '__getattribute__',\n",
       " '__getitem__',\n",
       " '__getnewargs__',\n",
       " '__gt__',\n",
       " '__hash__',\n",
       " '__init__',\n",
       " '__init_subclass__',\n",
       " '__iter__',\n",
       " '__le__',\n",
       " '__len__',\n",
       " '__lt__',\n",
       " '__mul__',\n",
       " '__ne__',\n",
       " '__new__',\n",
       " '__reduce__',\n",
       " '__reduce_ex__',\n",
       " '__repr__',\n",
       " '__rmul__',\n",
       " '__setattr__',\n",
       " '__sizeof__',\n",
       " '__str__',\n",
       " '__subclasshook__',\n",
       " 'count',\n",
       " 'index']"
      ]
     },
     "execution_count": 110,
     "metadata": {},
     "output_type": "execute_result"
    }
   ],
   "source": [
    "dir(report)"
   ]
  },
  {
   "cell_type": "code",
   "execution_count": null,
   "metadata": {},
   "outputs": [],
   "source": [
    "rf_results = []\n",
    "for n in range(200,300,10):\n",
    "    clf = RandomForestClassifier(n_estimators = n)\n",
    "    scoring = \"accuracy\"\n",
    "    scores = cross_val_score(clf, train_X, train_Y.values.ravel(), cv=5, scoring=scoring)\n",
    "    # svm_results[i] = scores\n",
    "    print(\"n_estimators: \" + str(n), end = \" \")\n",
    "    print(scoring + \": %0.4f (+/- %0.4f)\" % (scores.mean(), scores.std() * 2))\n"
   ]
  },
  {
   "cell_type": "code",
   "execution_count": 34,
   "metadata": {},
   "outputs": [
    {
     "name": "stdout",
     "output_type": "stream",
     "text": [
      "0.5907\n"
     ]
    }
   ],
   "source": [
    "\n",
    "clf = RandomForestClassifier(n_estimators = 1000)\n",
    "clf.fit(train_X, train_Y.values.ravel())\n",
    "# scoring = \"accuracy\"\n",
    "# scores = cross_val_score(clf, train_X, train_Y.values.ravel(), cv=5, scoring=scoring)\n",
    "# svm_results[i] = scores\n",
    "# print(\"n_estimators: \" + str(n), end = \" \")\n",
    "# print(scoring + \": %0.4f (+/- %0.4f)\" % (scores.mean(), scores.std() * 2))\n",
    "pred_Y = clf.predict(test_X)\n",
    "# accuracy = accuracy_score(test_Y, pred_Y)\n",
    "# accuracy\n",
    "print(accuracy_score(test_Y, pred_Y))"
   ]
  },
  {
   "cell_type": "code",
   "execution_count": 109,
   "metadata": {},
   "outputs": [
    {
     "name": "stdout",
     "output_type": "stream",
     "text": [
      "              precision    recall  f1-score   support\n",
      "\n",
      "           1       0.44      0.28      0.34      1800\n",
      "           2       0.39      0.22      0.28      1800\n",
      "           3       0.31      0.62      0.42      1800\n",
      "           4       0.27      0.38      0.31      1800\n",
      "           5       0.79      0.18      0.30      1800\n",
      "           6       0.23      0.48      0.31      1800\n",
      "           7       0.50      0.23      0.32      1800\n",
      "           8       0.65      0.24      0.35      1800\n",
      "           9       0.27      0.29      0.28      1800\n",
      "          10       0.32      0.37      0.34      1800\n",
      "\n",
      "    accuracy                           0.33     18000\n",
      "   macro avg       0.42      0.33      0.32     18000\n",
      "weighted avg       0.42      0.33      0.32     18000\n",
      "\n"
     ]
    }
   ],
   "source": [
    "\n",
    "print(classification_report(test_Y, pred_Y))"
   ]
  },
  {
   "cell_type": "markdown",
   "metadata": {},
   "source": [
    "### Hyperparameter tuning for Random forest Classifier using cross-validation accuracy"
   ]
  },
  {
   "cell_type": "code",
   "execution_count": 154,
   "metadata": {},
   "outputs": [
    {
     "name": "stderr",
     "output_type": "stream",
     "text": [
      "/opt/conda/lib/python3.7/site-packages/ipykernel_launcher.py:3: DataConversionWarning: A column-vector y was passed when a 1d array was expected. Please change the shape of y to (n_samples,), for example using ravel().\n",
      "  This is separate from the ipykernel package so we can avoid doing imports until\n",
      "/opt/conda/lib/python3.7/site-packages/ipykernel_launcher.py:3: DataConversionWarning: A column-vector y was passed when a 1d array was expected. Please change the shape of y to (n_samples,), for example using ravel().\n",
      "  This is separate from the ipykernel package so we can avoid doing imports until\n"
     ]
    },
    {
     "name": "stdout",
     "output_type": "stream",
     "text": [
      "Estimators: 1  Accuracy: 0.1757\n",
      "Estimators: 2  Accuracy: 0.1964\n"
     ]
    },
    {
     "name": "stderr",
     "output_type": "stream",
     "text": [
      "/opt/conda/lib/python3.7/site-packages/ipykernel_launcher.py:3: DataConversionWarning: A column-vector y was passed when a 1d array was expected. Please change the shape of y to (n_samples,), for example using ravel().\n",
      "  This is separate from the ipykernel package so we can avoid doing imports until\n"
     ]
    },
    {
     "name": "stdout",
     "output_type": "stream",
     "text": [
      "Estimators: 3  Accuracy: 0.2056\n"
     ]
    },
    {
     "name": "stderr",
     "output_type": "stream",
     "text": [
      "/opt/conda/lib/python3.7/site-packages/ipykernel_launcher.py:3: DataConversionWarning: A column-vector y was passed when a 1d array was expected. Please change the shape of y to (n_samples,), for example using ravel().\n",
      "  This is separate from the ipykernel package so we can avoid doing imports until\n"
     ]
    },
    {
     "name": "stdout",
     "output_type": "stream",
     "text": [
      "Estimators: 4  Accuracy: 0.2319\n"
     ]
    },
    {
     "name": "stderr",
     "output_type": "stream",
     "text": [
      "/opt/conda/lib/python3.7/site-packages/ipykernel_launcher.py:3: DataConversionWarning: A column-vector y was passed when a 1d array was expected. Please change the shape of y to (n_samples,), for example using ravel().\n",
      "  This is separate from the ipykernel package so we can avoid doing imports until\n"
     ]
    },
    {
     "name": "stdout",
     "output_type": "stream",
     "text": [
      "Estimators: 5  Accuracy: 0.2553\n"
     ]
    },
    {
     "name": "stderr",
     "output_type": "stream",
     "text": [
      "/opt/conda/lib/python3.7/site-packages/ipykernel_launcher.py:3: DataConversionWarning: A column-vector y was passed when a 1d array was expected. Please change the shape of y to (n_samples,), for example using ravel().\n",
      "  This is separate from the ipykernel package so we can avoid doing imports until\n"
     ]
    },
    {
     "name": "stdout",
     "output_type": "stream",
     "text": [
      "Estimators: 6  Accuracy: 0.2527\n"
     ]
    },
    {
     "name": "stderr",
     "output_type": "stream",
     "text": [
      "/opt/conda/lib/python3.7/site-packages/ipykernel_launcher.py:3: DataConversionWarning: A column-vector y was passed when a 1d array was expected. Please change the shape of y to (n_samples,), for example using ravel().\n",
      "  This is separate from the ipykernel package so we can avoid doing imports until\n"
     ]
    },
    {
     "name": "stdout",
     "output_type": "stream",
     "text": [
      "Estimators: 7  Accuracy: 0.2614\n"
     ]
    },
    {
     "name": "stderr",
     "output_type": "stream",
     "text": [
      "/opt/conda/lib/python3.7/site-packages/ipykernel_launcher.py:3: DataConversionWarning: A column-vector y was passed when a 1d array was expected. Please change the shape of y to (n_samples,), for example using ravel().\n",
      "  This is separate from the ipykernel package so we can avoid doing imports until\n"
     ]
    },
    {
     "name": "stdout",
     "output_type": "stream",
     "text": [
      "Estimators: 8  Accuracy: 0.2562\n"
     ]
    },
    {
     "name": "stderr",
     "output_type": "stream",
     "text": [
      "/opt/conda/lib/python3.7/site-packages/ipykernel_launcher.py:3: DataConversionWarning: A column-vector y was passed when a 1d array was expected. Please change the shape of y to (n_samples,), for example using ravel().\n",
      "  This is separate from the ipykernel package so we can avoid doing imports until\n"
     ]
    },
    {
     "name": "stdout",
     "output_type": "stream",
     "text": [
      "Estimators: 9  Accuracy: 0.2822\n"
     ]
    },
    {
     "name": "stderr",
     "output_type": "stream",
     "text": [
      "/opt/conda/lib/python3.7/site-packages/ipykernel_launcher.py:3: DataConversionWarning: A column-vector y was passed when a 1d array was expected. Please change the shape of y to (n_samples,), for example using ravel().\n",
      "  This is separate from the ipykernel package so we can avoid doing imports until\n"
     ]
    },
    {
     "name": "stdout",
     "output_type": "stream",
     "text": [
      "Estimators: 10  Accuracy: 0.2809\n"
     ]
    },
    {
     "name": "stderr",
     "output_type": "stream",
     "text": [
      "/opt/conda/lib/python3.7/site-packages/ipykernel_launcher.py:3: DataConversionWarning: A column-vector y was passed when a 1d array was expected. Please change the shape of y to (n_samples,), for example using ravel().\n",
      "  This is separate from the ipykernel package so we can avoid doing imports until\n"
     ]
    },
    {
     "name": "stdout",
     "output_type": "stream",
     "text": [
      "Estimators: 11  Accuracy: 0.2999\n"
     ]
    },
    {
     "name": "stderr",
     "output_type": "stream",
     "text": [
      "/opt/conda/lib/python3.7/site-packages/ipykernel_launcher.py:3: DataConversionWarning: A column-vector y was passed when a 1d array was expected. Please change the shape of y to (n_samples,), for example using ravel().\n",
      "  This is separate from the ipykernel package so we can avoid doing imports until\n"
     ]
    },
    {
     "name": "stdout",
     "output_type": "stream",
     "text": [
      "Estimators: 12  Accuracy: 0.2977\n"
     ]
    },
    {
     "name": "stderr",
     "output_type": "stream",
     "text": [
      "/opt/conda/lib/python3.7/site-packages/ipykernel_launcher.py:3: DataConversionWarning: A column-vector y was passed when a 1d array was expected. Please change the shape of y to (n_samples,), for example using ravel().\n",
      "  This is separate from the ipykernel package so we can avoid doing imports until\n"
     ]
    },
    {
     "name": "stdout",
     "output_type": "stream",
     "text": [
      "Estimators: 13  Accuracy: 0.293\n"
     ]
    },
    {
     "name": "stderr",
     "output_type": "stream",
     "text": [
      "/opt/conda/lib/python3.7/site-packages/ipykernel_launcher.py:3: DataConversionWarning: A column-vector y was passed when a 1d array was expected. Please change the shape of y to (n_samples,), for example using ravel().\n",
      "  This is separate from the ipykernel package so we can avoid doing imports until\n"
     ]
    },
    {
     "name": "stdout",
     "output_type": "stream",
     "text": [
      "Estimators: 14  Accuracy: 0.3027\n"
     ]
    },
    {
     "name": "stderr",
     "output_type": "stream",
     "text": [
      "/opt/conda/lib/python3.7/site-packages/ipykernel_launcher.py:3: DataConversionWarning: A column-vector y was passed when a 1d array was expected. Please change the shape of y to (n_samples,), for example using ravel().\n",
      "  This is separate from the ipykernel package so we can avoid doing imports until\n"
     ]
    },
    {
     "name": "stdout",
     "output_type": "stream",
     "text": [
      "Estimators: 15  Accuracy: 0.3053\n"
     ]
    },
    {
     "name": "stderr",
     "output_type": "stream",
     "text": [
      "/opt/conda/lib/python3.7/site-packages/ipykernel_launcher.py:3: DataConversionWarning: A column-vector y was passed when a 1d array was expected. Please change the shape of y to (n_samples,), for example using ravel().\n",
      "  This is separate from the ipykernel package so we can avoid doing imports until\n"
     ]
    },
    {
     "name": "stdout",
     "output_type": "stream",
     "text": [
      "Estimators: 16  Accuracy: 0.3145\n"
     ]
    },
    {
     "name": "stderr",
     "output_type": "stream",
     "text": [
      "/opt/conda/lib/python3.7/site-packages/ipykernel_launcher.py:3: DataConversionWarning: A column-vector y was passed when a 1d array was expected. Please change the shape of y to (n_samples,), for example using ravel().\n",
      "  This is separate from the ipykernel package so we can avoid doing imports until\n"
     ]
    },
    {
     "name": "stdout",
     "output_type": "stream",
     "text": [
      "Estimators: 17  Accuracy: 0.3227\n"
     ]
    },
    {
     "name": "stderr",
     "output_type": "stream",
     "text": [
      "/opt/conda/lib/python3.7/site-packages/ipykernel_launcher.py:3: DataConversionWarning: A column-vector y was passed when a 1d array was expected. Please change the shape of y to (n_samples,), for example using ravel().\n",
      "  This is separate from the ipykernel package so we can avoid doing imports until\n"
     ]
    },
    {
     "name": "stdout",
     "output_type": "stream",
     "text": [
      "Estimators: 18  Accuracy: 0.3216\n"
     ]
    },
    {
     "name": "stderr",
     "output_type": "stream",
     "text": [
      "/opt/conda/lib/python3.7/site-packages/ipykernel_launcher.py:3: DataConversionWarning: A column-vector y was passed when a 1d array was expected. Please change the shape of y to (n_samples,), for example using ravel().\n",
      "  This is separate from the ipykernel package so we can avoid doing imports until\n"
     ]
    },
    {
     "name": "stdout",
     "output_type": "stream",
     "text": [
      "Estimators: 19  Accuracy: 0.3273\n"
     ]
    },
    {
     "name": "stderr",
     "output_type": "stream",
     "text": [
      "/opt/conda/lib/python3.7/site-packages/ipykernel_launcher.py:3: DataConversionWarning: A column-vector y was passed when a 1d array was expected. Please change the shape of y to (n_samples,), for example using ravel().\n",
      "  This is separate from the ipykernel package so we can avoid doing imports until\n"
     ]
    },
    {
     "name": "stdout",
     "output_type": "stream",
     "text": [
      "Estimators: 20  Accuracy: 0.324\n"
     ]
    },
    {
     "name": "stderr",
     "output_type": "stream",
     "text": [
      "/opt/conda/lib/python3.7/site-packages/ipykernel_launcher.py:3: DataConversionWarning: A column-vector y was passed when a 1d array was expected. Please change the shape of y to (n_samples,), for example using ravel().\n",
      "  This is separate from the ipykernel package so we can avoid doing imports until\n"
     ]
    },
    {
     "name": "stdout",
     "output_type": "stream",
     "text": [
      "Estimators: 21  Accuracy: 0.3307\n"
     ]
    },
    {
     "name": "stderr",
     "output_type": "stream",
     "text": [
      "/opt/conda/lib/python3.7/site-packages/ipykernel_launcher.py:3: DataConversionWarning: A column-vector y was passed when a 1d array was expected. Please change the shape of y to (n_samples,), for example using ravel().\n",
      "  This is separate from the ipykernel package so we can avoid doing imports until\n"
     ]
    },
    {
     "name": "stdout",
     "output_type": "stream",
     "text": [
      "Estimators: 22  Accuracy: 0.3365\n"
     ]
    },
    {
     "name": "stderr",
     "output_type": "stream",
     "text": [
      "/opt/conda/lib/python3.7/site-packages/ipykernel_launcher.py:3: DataConversionWarning: A column-vector y was passed when a 1d array was expected. Please change the shape of y to (n_samples,), for example using ravel().\n",
      "  This is separate from the ipykernel package so we can avoid doing imports until\n"
     ]
    },
    {
     "name": "stdout",
     "output_type": "stream",
     "text": [
      "Estimators: 23  Accuracy: 0.3326\n"
     ]
    },
    {
     "name": "stderr",
     "output_type": "stream",
     "text": [
      "/opt/conda/lib/python3.7/site-packages/ipykernel_launcher.py:3: DataConversionWarning: A column-vector y was passed when a 1d array was expected. Please change the shape of y to (n_samples,), for example using ravel().\n",
      "  This is separate from the ipykernel package so we can avoid doing imports until\n"
     ]
    },
    {
     "name": "stdout",
     "output_type": "stream",
     "text": [
      "Estimators: 24  Accuracy: 0.332\n"
     ]
    },
    {
     "name": "stderr",
     "output_type": "stream",
     "text": [
      "/opt/conda/lib/python3.7/site-packages/ipykernel_launcher.py:3: DataConversionWarning: A column-vector y was passed when a 1d array was expected. Please change the shape of y to (n_samples,), for example using ravel().\n",
      "  This is separate from the ipykernel package so we can avoid doing imports until\n"
     ]
    },
    {
     "name": "stdout",
     "output_type": "stream",
     "text": [
      "Estimators: 25  Accuracy: 0.3458\n"
     ]
    },
    {
     "name": "stderr",
     "output_type": "stream",
     "text": [
      "/opt/conda/lib/python3.7/site-packages/ipykernel_launcher.py:3: DataConversionWarning: A column-vector y was passed when a 1d array was expected. Please change the shape of y to (n_samples,), for example using ravel().\n",
      "  This is separate from the ipykernel package so we can avoid doing imports until\n"
     ]
    },
    {
     "name": "stdout",
     "output_type": "stream",
     "text": [
      "Estimators: 26  Accuracy: 0.343\n"
     ]
    },
    {
     "name": "stderr",
     "output_type": "stream",
     "text": [
      "/opt/conda/lib/python3.7/site-packages/ipykernel_launcher.py:3: DataConversionWarning: A column-vector y was passed when a 1d array was expected. Please change the shape of y to (n_samples,), for example using ravel().\n",
      "  This is separate from the ipykernel package so we can avoid doing imports until\n"
     ]
    },
    {
     "name": "stdout",
     "output_type": "stream",
     "text": [
      "Estimators: 27  Accuracy: 0.3463\n"
     ]
    },
    {
     "name": "stderr",
     "output_type": "stream",
     "text": [
      "/opt/conda/lib/python3.7/site-packages/ipykernel_launcher.py:3: DataConversionWarning: A column-vector y was passed when a 1d array was expected. Please change the shape of y to (n_samples,), for example using ravel().\n",
      "  This is separate from the ipykernel package so we can avoid doing imports until\n"
     ]
    },
    {
     "name": "stdout",
     "output_type": "stream",
     "text": [
      "Estimators: 28  Accuracy: 0.3562\n"
     ]
    },
    {
     "name": "stderr",
     "output_type": "stream",
     "text": [
      "/opt/conda/lib/python3.7/site-packages/ipykernel_launcher.py:3: DataConversionWarning: A column-vector y was passed when a 1d array was expected. Please change the shape of y to (n_samples,), for example using ravel().\n",
      "  This is separate from the ipykernel package so we can avoid doing imports until\n"
     ]
    },
    {
     "name": "stdout",
     "output_type": "stream",
     "text": [
      "Estimators: 29  Accuracy: 0.3322\n"
     ]
    },
    {
     "name": "stderr",
     "output_type": "stream",
     "text": [
      "/opt/conda/lib/python3.7/site-packages/ipykernel_launcher.py:3: DataConversionWarning: A column-vector y was passed when a 1d array was expected. Please change the shape of y to (n_samples,), for example using ravel().\n",
      "  This is separate from the ipykernel package so we can avoid doing imports until\n"
     ]
    },
    {
     "name": "stdout",
     "output_type": "stream",
     "text": [
      "Estimators: 30  Accuracy: 0.3371\n"
     ]
    },
    {
     "name": "stderr",
     "output_type": "stream",
     "text": [
      "/opt/conda/lib/python3.7/site-packages/ipykernel_launcher.py:3: DataConversionWarning: A column-vector y was passed when a 1d array was expected. Please change the shape of y to (n_samples,), for example using ravel().\n",
      "  This is separate from the ipykernel package so we can avoid doing imports until\n"
     ]
    },
    {
     "name": "stdout",
     "output_type": "stream",
     "text": [
      "Estimators: 31  Accuracy: 0.349\n"
     ]
    },
    {
     "name": "stderr",
     "output_type": "stream",
     "text": [
      "/opt/conda/lib/python3.7/site-packages/ipykernel_launcher.py:3: DataConversionWarning: A column-vector y was passed when a 1d array was expected. Please change the shape of y to (n_samples,), for example using ravel().\n",
      "  This is separate from the ipykernel package so we can avoid doing imports until\n"
     ]
    },
    {
     "name": "stdout",
     "output_type": "stream",
     "text": [
      "Estimators: 32  Accuracy: 0.3505\n"
     ]
    },
    {
     "name": "stderr",
     "output_type": "stream",
     "text": [
      "/opt/conda/lib/python3.7/site-packages/ipykernel_launcher.py:3: DataConversionWarning: A column-vector y was passed when a 1d array was expected. Please change the shape of y to (n_samples,), for example using ravel().\n",
      "  This is separate from the ipykernel package so we can avoid doing imports until\n"
     ]
    },
    {
     "name": "stdout",
     "output_type": "stream",
     "text": [
      "Estimators: 33  Accuracy: 0.3271\n"
     ]
    },
    {
     "name": "stderr",
     "output_type": "stream",
     "text": [
      "/opt/conda/lib/python3.7/site-packages/ipykernel_launcher.py:3: DataConversionWarning: A column-vector y was passed when a 1d array was expected. Please change the shape of y to (n_samples,), for example using ravel().\n",
      "  This is separate from the ipykernel package so we can avoid doing imports until\n"
     ]
    },
    {
     "name": "stdout",
     "output_type": "stream",
     "text": [
      "Estimators: 34  Accuracy: 0.3641\n"
     ]
    },
    {
     "name": "stderr",
     "output_type": "stream",
     "text": [
      "/opt/conda/lib/python3.7/site-packages/ipykernel_launcher.py:3: DataConversionWarning: A column-vector y was passed when a 1d array was expected. Please change the shape of y to (n_samples,), for example using ravel().\n",
      "  This is separate from the ipykernel package so we can avoid doing imports until\n"
     ]
    },
    {
     "name": "stdout",
     "output_type": "stream",
     "text": [
      "Estimators: 35  Accuracy: 0.3392\n"
     ]
    },
    {
     "name": "stderr",
     "output_type": "stream",
     "text": [
      "/opt/conda/lib/python3.7/site-packages/ipykernel_launcher.py:3: DataConversionWarning: A column-vector y was passed when a 1d array was expected. Please change the shape of y to (n_samples,), for example using ravel().\n",
      "  This is separate from the ipykernel package so we can avoid doing imports until\n"
     ]
    },
    {
     "name": "stdout",
     "output_type": "stream",
     "text": [
      "Estimators: 36  Accuracy: 0.3419\n"
     ]
    },
    {
     "name": "stderr",
     "output_type": "stream",
     "text": [
      "/opt/conda/lib/python3.7/site-packages/ipykernel_launcher.py:3: DataConversionWarning: A column-vector y was passed when a 1d array was expected. Please change the shape of y to (n_samples,), for example using ravel().\n",
      "  This is separate from the ipykernel package so we can avoid doing imports until\n"
     ]
    },
    {
     "name": "stdout",
     "output_type": "stream",
     "text": [
      "Estimators: 37  Accuracy: 0.3504\n"
     ]
    },
    {
     "name": "stderr",
     "output_type": "stream",
     "text": [
      "/opt/conda/lib/python3.7/site-packages/ipykernel_launcher.py:3: DataConversionWarning: A column-vector y was passed when a 1d array was expected. Please change the shape of y to (n_samples,), for example using ravel().\n",
      "  This is separate from the ipykernel package so we can avoid doing imports until\n"
     ]
    },
    {
     "name": "stdout",
     "output_type": "stream",
     "text": [
      "Estimators: 38  Accuracy: 0.3446\n"
     ]
    },
    {
     "name": "stderr",
     "output_type": "stream",
     "text": [
      "/opt/conda/lib/python3.7/site-packages/ipykernel_launcher.py:3: DataConversionWarning: A column-vector y was passed when a 1d array was expected. Please change the shape of y to (n_samples,), for example using ravel().\n",
      "  This is separate from the ipykernel package so we can avoid doing imports until\n"
     ]
    },
    {
     "name": "stdout",
     "output_type": "stream",
     "text": [
      "Estimators: 39  Accuracy: 0.3536\n"
     ]
    },
    {
     "name": "stderr",
     "output_type": "stream",
     "text": [
      "/opt/conda/lib/python3.7/site-packages/ipykernel_launcher.py:3: DataConversionWarning: A column-vector y was passed when a 1d array was expected. Please change the shape of y to (n_samples,), for example using ravel().\n",
      "  This is separate from the ipykernel package so we can avoid doing imports until\n"
     ]
    },
    {
     "name": "stdout",
     "output_type": "stream",
     "text": [
      "Estimators: 40  Accuracy: 0.3495\n"
     ]
    },
    {
     "name": "stderr",
     "output_type": "stream",
     "text": [
      "/opt/conda/lib/python3.7/site-packages/ipykernel_launcher.py:3: DataConversionWarning: A column-vector y was passed when a 1d array was expected. Please change the shape of y to (n_samples,), for example using ravel().\n",
      "  This is separate from the ipykernel package so we can avoid doing imports until\n"
     ]
    },
    {
     "name": "stdout",
     "output_type": "stream",
     "text": [
      "Estimators: 41  Accuracy: 0.358\n"
     ]
    },
    {
     "name": "stderr",
     "output_type": "stream",
     "text": [
      "/opt/conda/lib/python3.7/site-packages/ipykernel_launcher.py:3: DataConversionWarning: A column-vector y was passed when a 1d array was expected. Please change the shape of y to (n_samples,), for example using ravel().\n",
      "  This is separate from the ipykernel package so we can avoid doing imports until\n"
     ]
    },
    {
     "name": "stdout",
     "output_type": "stream",
     "text": [
      "Estimators: 42  Accuracy: 0.3469\n"
     ]
    },
    {
     "name": "stderr",
     "output_type": "stream",
     "text": [
      "/opt/conda/lib/python3.7/site-packages/ipykernel_launcher.py:3: DataConversionWarning: A column-vector y was passed when a 1d array was expected. Please change the shape of y to (n_samples,), for example using ravel().\n",
      "  This is separate from the ipykernel package so we can avoid doing imports until\n"
     ]
    },
    {
     "name": "stdout",
     "output_type": "stream",
     "text": [
      "Estimators: 43  Accuracy: 0.3729\n"
     ]
    },
    {
     "name": "stderr",
     "output_type": "stream",
     "text": [
      "/opt/conda/lib/python3.7/site-packages/ipykernel_launcher.py:3: DataConversionWarning: A column-vector y was passed when a 1d array was expected. Please change the shape of y to (n_samples,), for example using ravel().\n",
      "  This is separate from the ipykernel package so we can avoid doing imports until\n"
     ]
    },
    {
     "name": "stdout",
     "output_type": "stream",
     "text": [
      "Estimators: 44  Accuracy: 0.3543\n"
     ]
    },
    {
     "name": "stderr",
     "output_type": "stream",
     "text": [
      "/opt/conda/lib/python3.7/site-packages/ipykernel_launcher.py:3: DataConversionWarning: A column-vector y was passed when a 1d array was expected. Please change the shape of y to (n_samples,), for example using ravel().\n",
      "  This is separate from the ipykernel package so we can avoid doing imports until\n"
     ]
    },
    {
     "name": "stdout",
     "output_type": "stream",
     "text": [
      "Estimators: 45  Accuracy: 0.3608\n"
     ]
    },
    {
     "name": "stderr",
     "output_type": "stream",
     "text": [
      "/opt/conda/lib/python3.7/site-packages/ipykernel_launcher.py:3: DataConversionWarning: A column-vector y was passed when a 1d array was expected. Please change the shape of y to (n_samples,), for example using ravel().\n",
      "  This is separate from the ipykernel package so we can avoid doing imports until\n"
     ]
    },
    {
     "name": "stdout",
     "output_type": "stream",
     "text": [
      "Estimators: 46  Accuracy: 0.3667\n"
     ]
    },
    {
     "name": "stderr",
     "output_type": "stream",
     "text": [
      "/opt/conda/lib/python3.7/site-packages/ipykernel_launcher.py:3: DataConversionWarning: A column-vector y was passed when a 1d array was expected. Please change the shape of y to (n_samples,), for example using ravel().\n",
      "  This is separate from the ipykernel package so we can avoid doing imports until\n"
     ]
    },
    {
     "name": "stdout",
     "output_type": "stream",
     "text": [
      "Estimators: 47  Accuracy: 0.361\n"
     ]
    },
    {
     "name": "stderr",
     "output_type": "stream",
     "text": [
      "/opt/conda/lib/python3.7/site-packages/ipykernel_launcher.py:3: DataConversionWarning: A column-vector y was passed when a 1d array was expected. Please change the shape of y to (n_samples,), for example using ravel().\n",
      "  This is separate from the ipykernel package so we can avoid doing imports until\n"
     ]
    },
    {
     "name": "stdout",
     "output_type": "stream",
     "text": [
      "Estimators: 48  Accuracy: 0.3564\n"
     ]
    },
    {
     "name": "stderr",
     "output_type": "stream",
     "text": [
      "/opt/conda/lib/python3.7/site-packages/ipykernel_launcher.py:3: DataConversionWarning: A column-vector y was passed when a 1d array was expected. Please change the shape of y to (n_samples,), for example using ravel().\n",
      "  This is separate from the ipykernel package so we can avoid doing imports until\n"
     ]
    },
    {
     "name": "stdout",
     "output_type": "stream",
     "text": [
      "Estimators: 49  Accuracy: 0.3632\n"
     ]
    },
    {
     "name": "stderr",
     "output_type": "stream",
     "text": [
      "/opt/conda/lib/python3.7/site-packages/ipykernel_launcher.py:3: DataConversionWarning: A column-vector y was passed when a 1d array was expected. Please change the shape of y to (n_samples,), for example using ravel().\n",
      "  This is separate from the ipykernel package so we can avoid doing imports until\n"
     ]
    },
    {
     "name": "stdout",
     "output_type": "stream",
     "text": [
      "Estimators: 50  Accuracy: 0.3624\n"
     ]
    },
    {
     "name": "stderr",
     "output_type": "stream",
     "text": [
      "/opt/conda/lib/python3.7/site-packages/ipykernel_launcher.py:3: DataConversionWarning: A column-vector y was passed when a 1d array was expected. Please change the shape of y to (n_samples,), for example using ravel().\n",
      "  This is separate from the ipykernel package so we can avoid doing imports until\n"
     ]
    },
    {
     "name": "stdout",
     "output_type": "stream",
     "text": [
      "Estimators: 51  Accuracy: 0.364\n"
     ]
    },
    {
     "name": "stderr",
     "output_type": "stream",
     "text": [
      "/opt/conda/lib/python3.7/site-packages/ipykernel_launcher.py:3: DataConversionWarning: A column-vector y was passed when a 1d array was expected. Please change the shape of y to (n_samples,), for example using ravel().\n",
      "  This is separate from the ipykernel package so we can avoid doing imports until\n"
     ]
    },
    {
     "name": "stdout",
     "output_type": "stream",
     "text": [
      "Estimators: 52  Accuracy: 0.3608\n"
     ]
    },
    {
     "name": "stderr",
     "output_type": "stream",
     "text": [
      "/opt/conda/lib/python3.7/site-packages/ipykernel_launcher.py:3: DataConversionWarning: A column-vector y was passed when a 1d array was expected. Please change the shape of y to (n_samples,), for example using ravel().\n",
      "  This is separate from the ipykernel package so we can avoid doing imports until\n"
     ]
    },
    {
     "name": "stdout",
     "output_type": "stream",
     "text": [
      "Estimators: 53  Accuracy: 0.3684\n"
     ]
    },
    {
     "name": "stderr",
     "output_type": "stream",
     "text": [
      "/opt/conda/lib/python3.7/site-packages/ipykernel_launcher.py:3: DataConversionWarning: A column-vector y was passed when a 1d array was expected. Please change the shape of y to (n_samples,), for example using ravel().\n",
      "  This is separate from the ipykernel package so we can avoid doing imports until\n"
     ]
    },
    {
     "name": "stdout",
     "output_type": "stream",
     "text": [
      "Estimators: 54  Accuracy: 0.3639\n"
     ]
    },
    {
     "name": "stderr",
     "output_type": "stream",
     "text": [
      "/opt/conda/lib/python3.7/site-packages/ipykernel_launcher.py:3: DataConversionWarning: A column-vector y was passed when a 1d array was expected. Please change the shape of y to (n_samples,), for example using ravel().\n",
      "  This is separate from the ipykernel package so we can avoid doing imports until\n"
     ]
    },
    {
     "name": "stdout",
     "output_type": "stream",
     "text": [
      "Estimators: 55  Accuracy: 0.3827\n"
     ]
    },
    {
     "name": "stderr",
     "output_type": "stream",
     "text": [
      "/opt/conda/lib/python3.7/site-packages/ipykernel_launcher.py:3: DataConversionWarning: A column-vector y was passed when a 1d array was expected. Please change the shape of y to (n_samples,), for example using ravel().\n",
      "  This is separate from the ipykernel package so we can avoid doing imports until\n"
     ]
    },
    {
     "name": "stdout",
     "output_type": "stream",
     "text": [
      "Estimators: 56  Accuracy: 0.3709\n"
     ]
    },
    {
     "name": "stderr",
     "output_type": "stream",
     "text": [
      "/opt/conda/lib/python3.7/site-packages/ipykernel_launcher.py:3: DataConversionWarning: A column-vector y was passed when a 1d array was expected. Please change the shape of y to (n_samples,), for example using ravel().\n",
      "  This is separate from the ipykernel package so we can avoid doing imports until\n"
     ]
    },
    {
     "name": "stdout",
     "output_type": "stream",
     "text": [
      "Estimators: 57  Accuracy: 0.3786\n"
     ]
    },
    {
     "name": "stderr",
     "output_type": "stream",
     "text": [
      "/opt/conda/lib/python3.7/site-packages/ipykernel_launcher.py:3: DataConversionWarning: A column-vector y was passed when a 1d array was expected. Please change the shape of y to (n_samples,), for example using ravel().\n",
      "  This is separate from the ipykernel package so we can avoid doing imports until\n"
     ]
    },
    {
     "name": "stdout",
     "output_type": "stream",
     "text": [
      "Estimators: 58  Accuracy: 0.375\n"
     ]
    },
    {
     "name": "stderr",
     "output_type": "stream",
     "text": [
      "/opt/conda/lib/python3.7/site-packages/ipykernel_launcher.py:3: DataConversionWarning: A column-vector y was passed when a 1d array was expected. Please change the shape of y to (n_samples,), for example using ravel().\n",
      "  This is separate from the ipykernel package so we can avoid doing imports until\n"
     ]
    },
    {
     "name": "stdout",
     "output_type": "stream",
     "text": [
      "Estimators: 59  Accuracy: 0.3658\n"
     ]
    }
   ],
   "source": [
    "for i in range(1,1024):    \n",
    "    classifier = RandomForestClassifier(n_estimators = i)\n",
    "    classifier.fit(train_X, train_Y.values.ravel())\n",
    "    Y_pred = classifier.predict(test_X)\n",
    "    accuracy = accuracy_score(test_Y, Y_pred)\n",
    "    print (\"Estimators:\", i, \" Accuracy:\",accuracy)"
   ]
  },
  {
   "cell_type": "code",
   "execution_count": 111,
   "metadata": {},
   "outputs": [],
   "source": [
    "from datetime import datetime\n",
    "from xgboost import XGBClassifier\n"
   ]
  },
  {
   "cell_type": "code",
   "execution_count": null,
   "metadata": {},
   "outputs": [],
   "source": [
    "for m in opts_max_depth:\n",
    "    for l in opts_learning_rate:\n",
    "        for s in opts_subsample:\n",
    "            for c in opts_colsample_bytree:\n",
    "                print(\"m=%d, l=%.4f, s=%.4f, c=%.4f\"%(m, l, s, c))"
   ]
  },
  {
   "cell_type": "markdown",
   "metadata": {},
   "source": [
    "### Tuning the XGBoost classifier using cross-validation accuracy"
   ]
  },
  {
   "cell_type": "code",
   "execution_count": 88,
   "metadata": {},
   "outputs": [
    {
     "name": "stdout",
     "output_type": "stream",
     "text": [
      "Time for learing: 213.563326\n",
      "Time for learing: 242.426791\n",
      "Time for learing: 271.806112\n",
      "Time for learing: 202.928551\n",
      "Time for learing: 235.59677\n",
      "Time for learing: 265.96839\n",
      "Time for learing: 207.953058\n",
      "Time for learing: 235.376749\n",
      "Time for learing: 269.334969\n",
      "Time for learing: 204.378152\n",
      "Time for learing: 233.666932\n",
      "Time for learing: 266.791338\n",
      "Time for learing: 205.388587\n",
      "Time for learing: 241.409791\n",
      "Time for learing: 274.276366\n",
      "Time for learing: 206.24535\n",
      "Time for learing: 236.746751\n",
      "Time for learing: 269.19151\n",
      "Time for learing: 337.715409\n",
      "Time for learing: 414.096121\n",
      "Time for learing: 474.760702\n",
      "Time for learing: 333.933879\n",
      "Time for learing: 409.826598\n",
      "Time for learing: 470.781634\n",
      "Time for learing: 379.505466\n",
      "Time for learing: 463.490311\n",
      "Time for learing: 553.373319\n",
      "Time for learing: 377.867609\n",
      "Time for learing: 462.9511\n",
      "Time for learing: 531.041728\n",
      "Time for learing: 396.948226\n",
      "Time for learing: 487.969205\n",
      "Time for learing: 521.229954\n",
      "Time for learing: 347.043521\n",
      "Time for learing: 424.549136\n",
      "Time for learing: 508.595237\n",
      "Time for learing: 514.975439\n",
      "Time for learing: 665.678028\n",
      "Time for learing: 721.585087\n",
      "Time for learing: 482.332567\n",
      "Time for learing: 599.701136\n",
      "Time for learing: 703.789648\n",
      "Time for learing: 502.122371\n",
      "Time for learing: 635.096844\n",
      "Time for learing: 741.986141\n",
      "Time for learing: 491.065261\n",
      "Time for learing: 618.756861\n",
      "Time for learing: 725.595334\n",
      "Time for learing: 517.868851\n",
      "Time for learing: 659.352399\n",
      "Time for learing: 767.744377\n",
      "Time for learing: 520.852916\n",
      "Time for learing: 658.904478\n",
      "Time for learing: 752.014961\n"
     ]
    }
   ],
   "source": [
    "opts_max_depth = [4,8,12]\n",
    "opts_learning_rate = [0.08, 0.04, 0.02]\n",
    "opts_subsample = [0.8, 0.9]\n",
    "opts_colsample_bytree = [0.4, 0.6, 0.8]\n",
    "\n",
    "all_opts = [opts_max_depth, opts_learning_rate, opts_subsample, opts_colsample_bytree]\n",
    "\n",
    "for m in opts_max_depth:\n",
    "    for l in opts_learning_rate:\n",
    "        for s in opts_subsample:\n",
    "            for c in opts_colsample_bytree:                \n",
    "                model = XGBClassifier(silent=False, \n",
    "                                      scale_pos_weight=1,\n",
    "                                      learning_rate=l,  \n",
    "                                      colsample_bytree = c,\n",
    "                                      subsample = s,\n",
    "                                      objective='multi:softmax', \n",
    "                                      n_estimators=1000, \n",
    "                                      reg_alpha = 0.3,\n",
    "                                      max_depth=m, \n",
    "                                      gamma=5) \n",
    "                start = datetime.now()\n",
    "                model.fit(train_X, train_Y.values.ravel())\n",
    "                end = datetime.now()\n",
    "\n",
    "                print(\"Time for learing: \" + str((end-start).total_seconds()))\n",
    "                Y_pred = model.predict(test_X)\n",
    "                accuracy = accuracy_score(test_Y, Y_pred)\n",
    "                accuracy"
   ]
  },
  {
   "cell_type": "code",
   "execution_count": 112,
   "metadata": {},
   "outputs": [
    {
     "name": "stdout",
     "output_type": "stream",
     "text": [
      "Time for learing: 678.142163\n",
      "              precision    recall  f1-score   support\n",
      "\n",
      "           1       0.37      0.41      0.39      1820\n",
      "           2       0.31      0.41      0.35      1732\n",
      "           3       0.43      0.46      0.44      1816\n",
      "           4       0.29      0.35      0.32      1790\n",
      "           5       0.43      0.38      0.40      1797\n",
      "           6       0.36      0.27      0.31      1782\n",
      "           7       0.31      0.42      0.36      1810\n",
      "           8       0.46      0.28      0.35      1843\n",
      "           9       0.33      0.28      0.30      1778\n",
      "          10       0.44      0.36      0.40      1832\n",
      "\n",
      "    accuracy                           0.36     18000\n",
      "   macro avg       0.37      0.36      0.36     18000\n",
      "weighted avg       0.37      0.36      0.36     18000\n",
      "\n"
     ]
    }
   ],
   "source": [
    "model = XGBClassifier(silent=False, \n",
    "                      scale_pos_weight=1,\n",
    "                      learning_rate=0.04,  \n",
    "                      colsample_bytree = 0.4,\n",
    "                      subsample = 0.9,\n",
    "                      objective='multi:softmax', \n",
    "                      n_estimators=1000, \n",
    "                      reg_alpha = 0.3,\n",
    "                      max_depth=8, \n",
    "                      gamma=5) \n",
    "start = datetime.now()\n",
    "model.fit(train_X, train_Y.values.ravel())\n",
    "end = datetime.now()\n",
    "\n",
    "print(\"Time for learing: \" + str((end-start).total_seconds()))\n",
    "Y_pred = model.predict(test_X)\n",
    "print(classification_report(test_Y, pred_Y))"
   ]
  },
  {
   "cell_type": "code",
   "execution_count": 157,
   "metadata": {},
   "outputs": [
    {
     "name": "stdout",
     "output_type": "stream",
     "text": [
      "Collecting xgboost\n",
      "  Downloading xgboost-1.0.2-py3-none-manylinux1_x86_64.whl (109.7 MB)\n",
      "\u001b[K     |████████████████████████████████| 109.7 MB 6.2 kB/s  eta 0:00:01\n",
      "\u001b[?25hRequirement already satisfied: numpy in /opt/conda/lib/python3.7/site-packages (from xgboost) (1.18.1)\n",
      "Requirement already satisfied: scipy in /opt/conda/lib/python3.7/site-packages (from xgboost) (1.4.1)\n",
      "Installing collected packages: xgboost\n",
      "Successfully installed xgboost-1.0.2\n"
     ]
    }
   ],
   "source": [
    "!pip install xgboost"
   ]
  },
  {
   "cell_type": "code",
   "execution_count": null,
   "metadata": {},
   "outputs": [],
   "source": []
  }
 ],
 "metadata": {
  "kernelspec": {
   "display_name": "Python 3",
   "language": "python",
   "name": "python3"
  },
  "language_info": {
   "codemirror_mode": {
    "name": "ipython",
    "version": 3
   },
   "file_extension": ".py",
   "mimetype": "text/x-python",
   "name": "python",
   "nbconvert_exporter": "python",
   "pygments_lexer": "ipython3",
   "version": "3.6.10"
  }
 },
 "nbformat": 4,
 "nbformat_minor": 4
}
